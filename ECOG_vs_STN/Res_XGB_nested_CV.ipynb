{
 "cells": [
  {
   "cell_type": "code",
   "execution_count": 15,
   "metadata": {},
   "outputs": [],
   "source": [
    "PATH_ = \"../../../../Dropbox (Brain Modulation Lab)/Shared Lab Folders/CRCNS/MOVEMENT DATA/ECoG_STN/XGB_Out/\"\n",
    "subjects = ['000', '001', '004', '005', '006', '007', '008', '009', '010', '013', '014']"
   ]
  },
  {
   "cell_type": "code",
   "execution_count": 39,
   "metadata": {},
   "outputs": [],
   "source": [
    "import os\n",
    "import numpy as np\n",
    "from matplotlib import pyplot as plt"
   ]
  },
  {
   "cell_type": "code",
   "execution_count": 36,
   "metadata": {
    "scrolled": true
   },
   "outputs": [],
   "source": [
    "res_files = os.listdir(PATH_)"
   ]
  },
  {
   "cell_type": "code",
   "execution_count": 11,
   "metadata": {},
   "outputs": [],
   "source": [
    "res = np.load(os.path.join(PATH_, res_files[0]), allow_pickle=True).tolist()"
   ]
  },
  {
   "cell_type": "code",
   "execution_count": 12,
   "metadata": {},
   "outputs": [
    {
     "data": {
      "text/plain": [
       "dict_keys(['y_pred_test', 'y_test', 'y_pred_train', 'y_train', 'score_tr', 'score_te', 'coord_patient'])"
      ]
     },
     "execution_count": 12,
     "metadata": {},
     "output_type": "execute_result"
    }
   ],
   "source": [
    "res.keys()"
   ]
  },
  {
   "cell_type": "code",
   "execution_count": 14,
   "metadata": {},
   "outputs": [
    {
     "data": {
      "text/plain": [
       "0.004036342321528768"
      ]
     },
     "execution_count": 14,
     "metadata": {},
     "output_type": "execute_result"
    }
   ],
   "source": [
    "res[\"score_te\"][\"CON\"].mean()"
   ]
  },
  {
   "cell_type": "code",
   "execution_count": 37,
   "metadata": {
    "scrolled": true
   },
   "outputs": [
    {
     "name": "stdout",
     "output_type": "stream",
     "text": [
      "000BestChpredictions_ECOG-ses-right.npy\n",
      "001BestChpredictions_ECOG-ses-right.npy\n",
      "001BestChpredictions_ECOG-ses-left.npy\n",
      "004BestChpredictions_ECOG-ses-right.npy\n",
      "004BestChpredictions_ECOG-ses-left.npy\n",
      "005BestChpredictions_ECOG-ses-right.npy\n",
      "005BestChpredictions_ECOG-ses-left.npy\n",
      "006BestChpredictions_ECOG-ses-left.npy\n",
      "006BestChpredictions_ECOG-ses-right.npy\n",
      "007BestChpredictions_ECOG-ses-left.npy\n",
      "008BestChpredictions_ECOG-ses-left.npy\n",
      "009BestChpredictions_ECOG-ses-left.npy\n",
      "010BestChpredictions_ECOG-ses-left.npy\n",
      "010BestChpredictions_ECOG-ses-right.npy\n",
      "013BestChpredictions_ECOG-ses-left.npy\n",
      "014BestChpredictions_ECOG-ses-right.npy\n",
      "000BestChpredictions_ECOG-ses-right.npy\n",
      "001BestChpredictions_ECOG-ses-right.npy\n",
      "001BestChpredictions_ECOG-ses-left.npy\n",
      "004BestChpredictions_ECOG-ses-right.npy\n",
      "004BestChpredictions_ECOG-ses-left.npy\n",
      "005BestChpredictions_ECOG-ses-right.npy\n",
      "005BestChpredictions_ECOG-ses-left.npy\n",
      "006BestChpredictions_ECOG-ses-left.npy\n",
      "006BestChpredictions_ECOG-ses-right.npy\n",
      "007BestChpredictions_ECOG-ses-left.npy\n",
      "008BestChpredictions_ECOG-ses-left.npy\n",
      "009BestChpredictions_ECOG-ses-left.npy\n",
      "010BestChpredictions_ECOG-ses-left.npy\n",
      "010BestChpredictions_ECOG-ses-right.npy\n",
      "013BestChpredictions_ECOG-ses-left.npy\n",
      "014BestChpredictions_ECOG-ses-right.npy\n",
      "000BestChpredictions_STN-ses-right.npy\n",
      "001BestChpredictions_STN-ses-right.npy\n",
      "001BestChpredictions_STN-ses-left.npy\n",
      "004BestChpredictions_STN-ses-left.npy\n",
      "004BestChpredictions_STN-ses-right.npy\n",
      "005BestChpredictions_STN-ses-right.npy\n",
      "005BestChpredictions_STN-ses-left.npy\n",
      "006BestChpredictions_STN-ses-right.npy\n",
      "006BestChpredictions_STN-ses-left.npy\n",
      "007BestChpredictions_STN-ses-left.npy\n",
      "008BestChpredictions_STN-ses-left.npy\n",
      "009BestChpredictions_STN-ses-left.npy\n",
      "010BestChpredictions_STN-ses-left.npy\n",
      "010BestChpredictions_STN-ses-right.npy\n",
      "013BestChpredictions_STN-ses-left.npy\n",
      "014BestChpredictions_STN-ses-right.npy\n",
      "000BestChpredictions_STN-ses-right.npy\n",
      "001BestChpredictions_STN-ses-right.npy\n",
      "001BestChpredictions_STN-ses-left.npy\n",
      "004BestChpredictions_STN-ses-left.npy\n",
      "004BestChpredictions_STN-ses-right.npy\n",
      "005BestChpredictions_STN-ses-right.npy\n",
      "005BestChpredictions_STN-ses-left.npy\n",
      "006BestChpredictions_STN-ses-right.npy\n",
      "006BestChpredictions_STN-ses-left.npy\n",
      "007BestChpredictions_STN-ses-left.npy\n",
      "008BestChpredictions_STN-ses-left.npy\n",
      "009BestChpredictions_STN-ses-left.npy\n",
      "010BestChpredictions_STN-ses-left.npy\n",
      "010BestChpredictions_STN-ses-right.npy\n",
      "013BestChpredictions_STN-ses-left.npy\n",
      "014BestChpredictions_STN-ses-right.npy\n"
     ]
    }
   ],
   "source": [
    "res_ = []; # ECOG CON, ECOG IPS; STN CON, STN IPS\n",
    "for loc in [\"ECOG\", \"STN\"]:\n",
    "    for lat in [\"CON\", \"IPS\"]:\n",
    "        patients_ = []\n",
    "        for sub in subjects:\n",
    "            files = [f for f in res_files if (sub in f) and (loc in f)]\n",
    "            max_ = []\n",
    "            for file in files:\n",
    "                print(file)\n",
    "                max_.append(np.max(np.load(os.path.join(PATH_, files[0]), \n",
    "                                           allow_pickle=True).tolist()[\"score_te\"][lat]))\n",
    "            patients_.append(np.max(max_))\n",
    "        res_.append(patients_)  \n",
    "            "
   ]
  },
  {
   "cell_type": "code",
   "execution_count": 46,
   "metadata": {},
   "outputs": [
    {
     "data": {
      "image/png": "[encoded data removed]",
      "text/plain": [
       "<Figure size 432x288 with 1 Axes>"
      ]
     },
     "metadata": {
      "needs_background": "light"
     },
     "output_type": "display_data"
    }
   ],
   "source": [
    "plt.boxplot(res_, showmeans=True)\n",
    "plt.xticks([1,2, 3,4], ['ECOG CON', 'ECOG IPS', 'STN CON', 'STN IPS'])\n",
    "plt.ylabel(r'$R^2$')\n",
    "plt.title('XGB performances nested CV ')\n",
    "plt.grid(True)\n",
    "plt.show()"
   ]
  },
  {
   "cell_type": "code",
   "execution_count": null,
   "metadata": {},
   "outputs": [],
   "source": []
  }
 ],
 "metadata": {
  "kernelspec": {
   "display_name": "Python 3",
   "language": "python",
   "name": "python3"
  },
  "language_info": {
   "codemirror_mode": {
    "name": "ipython",
    "version": 3
   },
   "file_extension": ".py",
   "mimetype": "text/x-python",
   "name": "python",
   "nbconvert_exporter": "python",
   "pygments_lexer": "ipython3",
   "version": "3.7.4"
  }
 },
 "nbformat": 4,
 "nbformat_minor": 2
}
