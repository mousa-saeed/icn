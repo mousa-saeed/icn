{
 "cells": [
  {
   "cell_type": "code",
   "execution_count": 15,
   "metadata": {},
   "outputs": [],
   "source": [
    "PATH_ = \"../../../../Dropbox (Brain Modulation Lab)/Shared Lab Folders/CRCNS/MOVEMENT DATA/ECoG_STN/XGB_Out/\"\n",
    "subjects = ['000', '001', '004', '005', '006', '007', '008', '009', '010', '013', '014']"
   ]
  },
  {
   "cell_type": "code",
   "execution_count": 39,
   "metadata": {},
   "outputs": [],
   "source": [
    "import os\n",
    "import numpy as np\n",
    "from matplotlib import pyplot as plt"
   ]
  },
  {
   "cell_type": "code",
   "execution_count": 36,
   "metadata": {
    "scrolled": true
   },
   "outputs": [],
   "source": [
    "res_files = os.listdir(PATH_)"
   ]
  },
  {
   "cell_type": "code",
   "execution_count": 11,
   "metadata": {},
   "outputs": [],
   "source": [
    "res = np.load(os.path.join(PATH_, res_files[0]), allow_pickle=True).tolist()"
   ]
  },
  {
   "cell_type": "code",
   "execution_count": 12,
   "metadata": {},
   "outputs": [
    {
     "data": {
      "text/plain": [
       "dict_keys(['y_pred_test', 'y_test', 'y_pred_train', 'y_train', 'score_tr', 'score_te', 'coord_patient'])"
      ]
     },
     "execution_count": 12,
     "metadata": {},
     "output_type": "execute_result"
    }
   ],
   "source": [
    "res.keys()"
   ]
  },
  {
   "cell_type": "code",
   "execution_count": 14,
   "metadata": {},
   "outputs": [
    {
     "data": {
      "text/plain": [
       "0.004036342321528768"
      ]
     },
     "execution_count": 14,
     "metadata": {},
     "output_type": "execute_result"
    }
   ],
   "source": [
    "res[\"score_te\"][\"CON\"].mean()"
   ]
  },
  {
   "cell_type": "code",
   "execution_count": 37,
   "metadata": {
    "scrolled": true
   },
   "outputs": [
    {
     "name": "stdout",
     "output_type": "stream",
     "text": [
      "000BestChpredictions_ECOG-ses-right.npy\n",
      "001BestChpredictions_ECOG-ses-right.npy\n",
      "001BestChpredictions_ECOG-ses-left.npy\n",
      "004BestChpredictions_ECOG-ses-right.npy\n",
      "004BestChpredictions_ECOG-ses-left.npy\n",
      "005BestChpredictions_ECOG-ses-right.npy\n",
      "005BestChpredictions_ECOG-ses-left.npy\n",
      "006BestChpredictions_ECOG-ses-left.npy\n",
      "006BestChpredictions_ECOG-ses-right.npy\n",
      "007BestChpredictions_ECOG-ses-left.npy\n",
      "008BestChpredictions_ECOG-ses-left.npy\n",
      "009BestChpredictions_ECOG-ses-left.npy\n",
      "010BestChpredictions_ECOG-ses-left.npy\n",
      "010BestChpredictions_ECOG-ses-right.npy\n",
      "013BestChpredictions_ECOG-ses-left.npy\n",
      "014BestChpredictions_ECOG-ses-right.npy\n",
      "000BestChpredictions_ECOG-ses-right.npy\n",
      "001BestChpredictions_ECOG-ses-right.npy\n",
      "001BestChpredictions_ECOG-ses-left.npy\n",
      "004BestChpredictions_ECOG-ses-right.npy\n",
      "004BestChpredictions_ECOG-ses-left.npy\n",
      "005BestChpredictions_ECOG-ses-right.npy\n",
      "005BestChpredictions_ECOG-ses-left.npy\n",
      "006BestChpredictions_ECOG-ses-left.npy\n",
      "006BestChpredictions_ECOG-ses-right.npy\n",
      "007BestChpredictions_ECOG-ses-left.npy\n",
      "008BestChpredictions_ECOG-ses-left.npy\n",
      "009BestChpredictions_ECOG-ses-left.npy\n",
      "010BestChpredictions_ECOG-ses-left.npy\n",
      "010BestChpredictions_ECOG-ses-right.npy\n",
      "013BestChpredictions_ECOG-ses-left.npy\n",
      "014BestChpredictions_ECOG-ses-right.npy\n",
      "000BestChpredictions_STN-ses-right.npy\n",
      "001BestChpredictions_STN-ses-right.npy\n",
      "001BestChpredictions_STN-ses-left.npy\n",
      "004BestChpredictions_STN-ses-left.npy\n",
      "004BestChpredictions_STN-ses-right.npy\n",
      "005BestChpredictions_STN-ses-right.npy\n",
      "005BestChpredictions_STN-ses-left.npy\n",
      "006BestChpredictions_STN-ses-right.npy\n",
      "006BestChpredictions_STN-ses-left.npy\n",
      "007BestChpredictions_STN-ses-left.npy\n",
      "008BestChpredictions_STN-ses-left.npy\n",
      "009BestChpredictions_STN-ses-left.npy\n",
      "010BestChpredictions_STN-ses-left.npy\n",
      "010BestChpredictions_STN-ses-right.npy\n",
      "013BestChpredictions_STN-ses-left.npy\n",
      "014BestChpredictions_STN-ses-right.npy\n",
      "000BestChpredictions_STN-ses-right.npy\n",
      "001BestChpredictions_STN-ses-right.npy\n",
      "001BestChpredictions_STN-ses-left.npy\n",
      "004BestChpredictions_STN-ses-left.npy\n",
      "004BestChpredictions_STN-ses-right.npy\n",
      "005BestChpredictions_STN-ses-right.npy\n",
      "005BestChpredictions_STN-ses-left.npy\n",
      "006BestChpredictions_STN-ses-right.npy\n",
      "006BestChpredictions_STN-ses-left.npy\n",
      "007BestChpredictions_STN-ses-left.npy\n",
      "008BestChpredictions_STN-ses-left.npy\n",
      "009BestChpredictions_STN-ses-left.npy\n",
      "010BestChpredictions_STN-ses-left.npy\n",
      "010BestChpredictions_STN-ses-right.npy\n",
      "013BestChpredictions_STN-ses-left.npy\n",
      "014BestChpredictions_STN-ses-right.npy\n"
     ]
    }
   ],
   "source": [
    "PATH_ = \"../../../../Dropbox (Brain Modulation Lab)/Shared Lab Folders/CRCNS/MOVEMENT DATA/ECoG_STN/XGB_Out/\"\n",
    "res_files = os.listdir(PATH_)\n",
    "res_ = []; # ECOG CON, ECOG IPS; STN CON, STN IPS\n",
    "for loc in [\"ECOG\", \"STN\"]:\n",
    "    for lat in [\"CON\", \"IPS\"]:\n",
    "        patients_ = []\n",
    "        for sub in subjects:\n",
    "            files = [f for f in res_files if (sub in f) and (loc in f)]\n",
    "            max_ = []\n",
    "            for file in files:\n",
    "                print(file)\n",
    "                max_.append(np.max(np.load(os.path.join(PATH_, files[0]), \n",
    "                                           allow_pickle=True).tolist()[\"score_te\"][lat]))\n",
    "            patients_.append(np.max(max_))\n",
    "        res_.append(patients_)  \n",
    "            "
   ]
  },
  {
   "cell_type": "code",
   "execution_count": 46,
   "metadata": {},
   "outputs": [
    {
     "data": {
      "image/png": "[encoded data removed]",
      "text/plain": [
       "<Figure size 432x288 with 1 Axes>"
      ]
     },
     "metadata": {
      "needs_background": "light"
     },
     "output_type": "display_data"
    }
   ],
   "source": [
    "\n",
    "plt.boxplot(res_, showmeans=True)\n",
    "plt.xticks([1,2, 3,4], ['ECOG CON', 'ECOG IPS', 'STN CON', 'STN IPS'])\n",
    "plt.ylabel(r'$R^2$')\n",
    "plt.title('XGB performances nested CV ')\n",
    "plt.grid(True)\n",
    "plt.show()"
   ]
  },
  {
   "cell_type": "code",
   "execution_count": 54,
   "metadata": {
    "scrolled": true
   },
   "outputs": [
    {
     "name": "stdout",
     "output_type": "stream",
     "text": [
      "000BestChpredictions_ECOG_tlag_ses-right.npy\n",
      "001BestChpredictions_ECOG_tlag_ses-left.npy\n",
      "001BestChpredictions_ECOG_tlag_ses-right.npy\n",
      "004BestChpredictions_ECOG_tlag_ses-right.npy\n",
      "004BestChpredictions_ECOG_tlag_ses-left.npy\n",
      "005BestChpredictions_ECOG_tlag_ses-right.npy\n",
      "005BestChpredictions_ECOG_tlag_ses-left.npy\n",
      "006BestChpredictions_ECOG_tlag_ses-right.npy\n",
      "006BestChpredictions_ECOG_tlag_ses-left.npy\n",
      "007BestChpredictions_ECOG_tlag_ses-left.npy\n",
      "008BestChpredictions_ECOG_tlag_ses-left.npy\n",
      "009BestChpredictions_ECOG_tlag_ses-left.npy\n",
      "010BestChpredictions_ECOG_tlag_ses-left.npy\n",
      "010BestChpredictions_ECOG_tlag_ses-right.npy\n",
      "013BestChpredictions_ECOG_tlag_ses-left.npy\n",
      "014BestChpredictions_ECOG_tlag_ses-right.npy\n",
      "000BestChpredictions_ECOG_tlag_ses-right.npy\n",
      "001BestChpredictions_ECOG_tlag_ses-left.npy\n",
      "001BestChpredictions_ECOG_tlag_ses-right.npy\n",
      "004BestChpredictions_ECOG_tlag_ses-right.npy\n",
      "004BestChpredictions_ECOG_tlag_ses-left.npy\n",
      "005BestChpredictions_ECOG_tlag_ses-right.npy\n",
      "005BestChpredictions_ECOG_tlag_ses-left.npy\n",
      "006BestChpredictions_ECOG_tlag_ses-right.npy\n",
      "006BestChpredictions_ECOG_tlag_ses-left.npy\n",
      "007BestChpredictions_ECOG_tlag_ses-left.npy\n",
      "008BestChpredictions_ECOG_tlag_ses-left.npy\n",
      "009BestChpredictions_ECOG_tlag_ses-left.npy\n",
      "010BestChpredictions_ECOG_tlag_ses-left.npy\n",
      "010BestChpredictions_ECOG_tlag_ses-right.npy\n",
      "013BestChpredictions_ECOG_tlag_ses-left.npy\n",
      "014BestChpredictions_ECOG_tlag_ses-right.npy\n",
      "000BestChpredictions_STN-ses-right.npy\n",
      "000BestChpredictions_STN_tlag_ses-right.npy\n",
      "001BestChpredictions_STN-ses-left.npy\n",
      "001BestChpredictions_STN_tlag_ses-left.npy\n",
      "001BestChpredictions_STN_tlag_ses-right.npy\n",
      "004BestChpredictions_STN_tlag_ses-left.npy\n",
      "004BestChpredictions_STN_tlag_ses-right.npy\n",
      "005BestChpredictions_STN_tlag_ses-left.npy\n",
      "005BestChpredictions_STN_tlag_ses-right.npy\n",
      "006BestChpredictions_STN_tlag_ses-left.npy\n",
      "006BestChpredictions_STN_tlag_ses-right.npy\n",
      "007BestChpredictions_STN_tlag_ses-left.npy\n",
      "008BestChpredictions_STN_tlag_ses-left.npy\n",
      "009BestChpredictions_STN_tlag_ses-left.npy\n",
      "010BestChpredictions_STN_tlag_ses-right.npy\n",
      "010BestChpredictions_STN_tlag_ses-left.npy\n",
      "013BestChpredictions_STN_tlag_ses-left.npy\n",
      "014BestChpredictions_STN_tlag_ses-right.npy\n",
      "000BestChpredictions_STN-ses-right.npy\n",
      "000BestChpredictions_STN_tlag_ses-right.npy\n",
      "001BestChpredictions_STN-ses-left.npy\n",
      "001BestChpredictions_STN_tlag_ses-left.npy\n",
      "001BestChpredictions_STN_tlag_ses-right.npy\n",
      "004BestChpredictions_STN_tlag_ses-left.npy\n",
      "004BestChpredictions_STN_tlag_ses-right.npy\n",
      "005BestChpredictions_STN_tlag_ses-left.npy\n",
      "005BestChpredictions_STN_tlag_ses-right.npy\n",
      "006BestChpredictions_STN_tlag_ses-left.npy\n",
      "006BestChpredictions_STN_tlag_ses-right.npy\n",
      "007BestChpredictions_STN_tlag_ses-left.npy\n",
      "008BestChpredictions_STN_tlag_ses-left.npy\n",
      "009BestChpredictions_STN_tlag_ses-left.npy\n",
      "010BestChpredictions_STN_tlag_ses-right.npy\n",
      "010BestChpredictions_STN_tlag_ses-left.npy\n",
      "013BestChpredictions_STN_tlag_ses-left.npy\n",
      "014BestChpredictions_STN_tlag_ses-right.npy\n"
     ]
    }
   ],
   "source": [
    "PATH_ = \"../../../../Dropbox (Brain Modulation Lab)/Shared Lab Folders/CRCNS/MOVEMENT DATA/ECoG_STN/LM_Out/\"\n",
    "res_files = os.listdir(PATH_)\n",
    "res_LM = []; # ECOG CON, ECOG IPS; STN CON, STN IPS\n",
    "for loc in [\"ECOG\", \"STN\"]:\n",
    "    for lat in [\"CON\", \"IPS\"]:\n",
    "        patients_ = []\n",
    "        for sub in subjects:\n",
    "            files = [f for f in res_files if (sub in f) and (loc in f)]\n",
    "            max_ = []\n",
    "            for file in files:\n",
    "                print(file)\n",
    "                max_.append(np.max(np.load(os.path.join(PATH_, files[0]), \n",
    "                                           allow_pickle=True).tolist()[\"score_te\"][lat]))\n",
    "            patients_.append(np.max(max_))\n",
    "        res_LM.append(patients_)  \n",
    "            "
   ]
  },
  {
   "cell_type": "code",
   "execution_count": 59,
   "metadata": {},
   "outputs": [
    {
     "name": "stdout",
     "output_type": "stream",
     "text": [
      "000predictions_ECOG_tlag_ses-right.npy\n"
     ]
    },
    {
     "name": "stderr",
     "output_type": "stream",
     "text": [
      "/Users/hi/anaconda3/lib/python3.7/site-packages/sklearn/base.py:306: UserWarning: Trying to unpickle estimator ElasticNet from version 0.20.1 when using version 0.21.3. This might lead to breaking code or invalid results. Use at your own risk.\n",
      "  UserWarning)\n"
     ]
    },
    {
     "name": "stdout",
     "output_type": "stream",
     "text": [
      "000predictions_ECOG_ses-right.npy\n",
      "001predictions_ECOG_ses-left.npy\n",
      "001predictions_ECOG_tlag_ses-left.npy\n",
      "001predictions_ECOG_ses-right.npy\n",
      "001predictions_ECOG_tlag_ses-right.npy\n",
      "004predictions_ECOG_tlag_ses-right.npy\n",
      "004predictions_ECOG_ses-right.npy\n",
      "004predictions_ECOG_ses-left.npy\n",
      "004predictions_ECOG_tlag_ses-left.npy\n",
      "005predictions_ECOG_tlag_ses-right.npy\n",
      "005predictions_ECOG_ses-right.npy\n",
      "005predictions_ECOG_tlag_ses-left.npy\n",
      "005predictions_ECOG_ses-left.npy\n",
      "006predictions_ECOG_ses-right.npy\n",
      "006predictions_ECOG_tlag_ses-right.npy\n",
      "006predictions_ECOG_ses-left.npy\n",
      "006predictions_ECOG_tlag_ses-left.npy\n",
      "007predictions_ECOG_ses-left.npy\n",
      "007predictions_ECOG_tlag_ses-left.npy\n",
      "008predictions_ECOG_tlag_ses-left.npy\n",
      "008predictions_ECOG_ses-left.npy\n",
      "009predictions_ECOG_ses-left.npy\n",
      "009predictions_ECOG_tlag_ses-left.npy\n",
      "010predictions_ECOG_tlag_ses-right.npy\n",
      "010predictions_ECOG_tlag_ses-left.npy\n",
      "010predictions_ECOG_ses-left.npy\n",
      "010predictions_ECOG_ses-right.npy\n",
      "013predictions_ECOG_tlag_ses-left.npy\n",
      "013predictions_ECOG_ses-left.npy\n",
      "014predictions_ECOG_ses-right.npy\n"
     ]
    },
    {
     "name": "stderr",
     "output_type": "stream",
     "text": [
      "/Users/hi/anaconda3/lib/python3.7/site-packages/sklearn/base.py:306: UserWarning: Trying to unpickle estimator ElasticNet from version 0.20.1 when using version 0.21.3. This might lead to breaking code or invalid results. Use at your own risk.\n",
      "  UserWarning)\n"
     ]
    },
    {
     "name": "stdout",
     "output_type": "stream",
     "text": [
      "014predictions_ECOG_tlag_ses-right.npy\n",
      "000predictions_ECOG_tlag_ses-right.npy\n",
      "000predictions_ECOG_ses-right.npy\n",
      "001predictions_ECOG_ses-left.npy\n",
      "001predictions_ECOG_tlag_ses-left.npy\n",
      "001predictions_ECOG_ses-right.npy\n",
      "001predictions_ECOG_tlag_ses-right.npy\n",
      "004predictions_ECOG_tlag_ses-right.npy\n",
      "004predictions_ECOG_ses-right.npy\n",
      "004predictions_ECOG_ses-left.npy\n",
      "004predictions_ECOG_tlag_ses-left.npy\n",
      "005predictions_ECOG_tlag_ses-right.npy\n",
      "005predictions_ECOG_ses-right.npy\n",
      "005predictions_ECOG_tlag_ses-left.npy\n",
      "005predictions_ECOG_ses-left.npy\n",
      "006predictions_ECOG_ses-right.npy\n",
      "006predictions_ECOG_tlag_ses-right.npy\n",
      "006predictions_ECOG_ses-left.npy\n",
      "006predictions_ECOG_tlag_ses-left.npy\n",
      "007predictions_ECOG_ses-left.npy\n",
      "007predictions_ECOG_tlag_ses-left.npy\n",
      "008predictions_ECOG_tlag_ses-left.npy\n",
      "008predictions_ECOG_ses-left.npy\n",
      "009predictions_ECOG_ses-left.npy\n",
      "009predictions_ECOG_tlag_ses-left.npy\n",
      "010predictions_ECOG_tlag_ses-right.npy\n",
      "010predictions_ECOG_tlag_ses-left.npy\n",
      "010predictions_ECOG_ses-left.npy\n",
      "010predictions_ECOG_ses-right.npy\n",
      "013predictions_ECOG_tlag_ses-left.npy\n",
      "013predictions_ECOG_ses-left.npy\n",
      "014predictions_ECOG_ses-right.npy\n",
      "014predictions_ECOG_tlag_ses-right.npy\n",
      "000predictions_STN_tlag_ses-right.npy\n",
      "000predictions_STN_ses-right.npy\n",
      "001predictions_STN_ses-left.npy\n",
      "001predictions_STN_tlag_ses-right.npy\n",
      "001predictions_STN_tlag_ses-left.npy\n",
      "001predictions_STN_ses-right.npy\n",
      "004predictions_STN_ses-left.npy\n",
      "004predictions_STN_tlag_ses-left.npy\n",
      "004predictions_STN_ses-right.npy\n",
      "004predictions_STN_tlag_ses-right.npy\n",
      "005predictions_STN_ses-right.npy\n",
      "005predictions_STN_ses-left.npy\n",
      "005predictions_STN_tlag_ses-left.npy\n",
      "005predictions_STN_tlag_ses-right.npy\n",
      "006predictions_STN_ses-right.npy\n",
      "006predictions_STN_ses-left.npy\n",
      "006predictions_STN_tlag_ses-right.npy\n",
      "006predictions_STN_tlag_ses-left.npy\n",
      "007predictions_STN_tlag_ses-left.npy\n",
      "007predictions_STN_ses-left.npy\n",
      "008predictions_STN_tlag_ses-left.npy\n",
      "008predictions_STN_ses-left.npy\n",
      "009predictions_STN_ses-left.npy\n",
      "009predictions_STN_tlag_ses-left.npy\n",
      "010predictions_STN_ses-right.npy\n",
      "010predictions_STN_tlag_ses-right.npy\n",
      "010predictions_STN_tlag_ses-left.npy\n",
      "010predictions_STN_ses-left.npy\n",
      "013predictions_STN_tlag_ses-left.npy\n",
      "013predictions_STN_ses-left.npy\n",
      "014predictions_STN_ses-right.npy\n",
      "014predictions_STN_tlag_ses-right.npy\n",
      "000predictions_STN_tlag_ses-right.npy\n",
      "000predictions_STN_ses-right.npy\n",
      "001predictions_STN_ses-left.npy\n",
      "001predictions_STN_tlag_ses-right.npy\n",
      "001predictions_STN_tlag_ses-left.npy\n",
      "001predictions_STN_ses-right.npy\n",
      "004predictions_STN_ses-left.npy\n",
      "004predictions_STN_tlag_ses-left.npy\n",
      "004predictions_STN_ses-right.npy\n",
      "004predictions_STN_tlag_ses-right.npy\n",
      "005predictions_STN_ses-right.npy\n",
      "005predictions_STN_ses-left.npy\n",
      "005predictions_STN_tlag_ses-left.npy\n",
      "005predictions_STN_tlag_ses-right.npy\n",
      "006predictions_STN_ses-right.npy\n",
      "006predictions_STN_ses-left.npy\n",
      "006predictions_STN_tlag_ses-right.npy\n",
      "006predictions_STN_tlag_ses-left.npy\n",
      "007predictions_STN_tlag_ses-left.npy\n",
      "007predictions_STN_ses-left.npy\n",
      "008predictions_STN_tlag_ses-left.npy\n",
      "008predictions_STN_ses-left.npy\n",
      "009predictions_STN_ses-left.npy\n",
      "009predictions_STN_tlag_ses-left.npy\n",
      "010predictions_STN_ses-right.npy\n",
      "010predictions_STN_tlag_ses-right.npy\n",
      "010predictions_STN_tlag_ses-left.npy\n",
      "010predictions_STN_ses-left.npy\n",
      "013predictions_STN_tlag_ses-left.npy\n",
      "013predictions_STN_ses-left.npy\n",
      "014predictions_STN_ses-right.npy\n",
      "014predictions_STN_tlag_ses-right.npy\n"
     ]
    }
   ],
   "source": [
    "PATH_ = \"../../../../Dropbox (Brain Modulation Lab)/Shared Lab Folders/CRCNS/MOVEMENT DATA/ECoG_STN/SPOC_predictions/\"\n",
    "res_files = os.listdir(PATH_)\n",
    "res_SPOC = []; # ECOG CON, ECOG IPS; STN CON, STN IPS\n",
    "for loc in [\"ECOG\", \"STN\"]:\n",
    "    for lat in [\"CON\", \"IPS\"]:\n",
    "        patients_ = []\n",
    "        for sub in subjects:\n",
    "            files = [f for f in res_files if (sub in f) and (loc in f)]\n",
    "            max_ = []\n",
    "            for file in files:\n",
    "                print(file)\n",
    "                max_.append(np.max(np.load(os.path.join(PATH_, files[0]), \n",
    "                                           allow_pickle=True).tolist()[\"score_te\"][lat]))\n",
    "            patients_.append(np.max(max_))\n",
    "        res_SPOC.append(patients_)  \n",
    "            "
   ]
  },
  {
   "cell_type": "code",
   "execution_count": 91,
   "metadata": {},
   "outputs": [],
   "source": [
    "def get_str_title(res_):\n",
    "    return \"\\nECOG CON \" + str(np.round(np.mean(res_[0]), 2))+r' $\\pm$ '+str(np.round(np.std(res_[0]), 2)) + \"\\n\"+\\\n",
    "        \"ECOG IPS \" + str(np.round(np.mean(res_[1]), 2))+r' $\\pm$ '+str(np.round(np.std(res_[1]), 2)) + \"\\n\"+\\\n",
    "        \"STN CON \" + str(np.round(np.mean(res_[2]), 2))+r' $\\pm$ '+str(np.round(np.std(res_[2]), 2)) + \"\\n\"+\\\n",
    "        \"STN IPS \" + str(np.round(np.mean(res_[3]), 2))+r' $\\pm$ '+str(np.round(np.std(res_[3]), 2))"
   ]
  },
  {
   "cell_type": "code",
   "execution_count": 95,
   "metadata": {},
   "outputs": [
    {
     "data": {
      "image/png": "[encoded data removed]",
      "text/plain": [
       "<Figure size 648x360 with 3 Axes>"
      ]
     },
     "metadata": {
      "needs_background": "light"
     },
     "output_type": "display_data"
    }
   ],
   "source": [
    "plt.figure(figsize=(9,5))\n",
    "plt.subplot(131)\n",
    "plt.boxplot(res_, showmeans=True)\n",
    "plt.xticks([1,2, 3,4], ['ECOG CON', 'ECOG IPS', 'STN CON', 'STN IPS'], rotation=90)\n",
    "plt.ylabel(r'$R^2$')\n",
    "plt.title('XGB nested CV '+get_str_title(res_))\n",
    "plt.grid(True)\n",
    "plt.subplot(132)\n",
    "plt.boxplot(res_SPOC, showmeans=True)\n",
    "plt.xticks([1,2, 3,4], ['ECOG CON', 'ECOG IPS', 'STN CON', 'STN IPS'], rotation=90)\n",
    "plt.ylabel(r'$R^2$')\n",
    "plt.title('SPOC nested CV '+get_str_title(res_SPOC))\n",
    "plt.grid(True)\n",
    "\n",
    "plt.subplot(133)\n",
    "plt.boxplot(res_LM, showmeans=True)\n",
    "plt.xticks([1,2, 3,4], ['ECOG CON', 'ECOG IPS', 'STN CON', 'STN IPS'], rotation=90)\n",
    "plt.ylabel(r'$R^2$')\n",
    "plt.title('LM nested CV '+get_str_title(res_LM))\n",
    "plt.grid(True)\n",
    "plt.tight_layout()\n",
    "plt.show()"
   ]
  },
  {
   "cell_type": "code",
   "execution_count": 89,
   "metadata": {},
   "outputs": [],
   "source": []
  },
  {
   "cell_type": "code",
   "execution_count": 88,
   "metadata": {},
   "outputs": [
    {
     "name": "stdout",
     "output_type": "stream",
     "text": [
      "ECOG CON 0.27 $\\pm$ 0.23\n",
      "ECOG IPS 0.12 $\\pm$ 0.14\n",
      "STN CON 0.08 $\\pm$ 0.19\n",
      "STN IPS 0.03 $\\pm$ 0.04\n"
     ]
    }
   ],
   "source": [
    "print(best_)"
   ]
  },
  {
   "cell_type": "code",
   "execution_count": null,
   "metadata": {},
   "outputs": [],
   "source": []
  }
 ],
 "metadata": {
  "kernelspec": {
   "display_name": "Python 3",
   "language": "python",
   "name": "python3"
  },
  "language_info": {
   "codemirror_mode": {
    "name": "ipython",
    "version": 3
   },
   "file_extension": ".py",
   "mimetype": "text/x-python",
   "name": "python",
   "nbconvert_exporter": "python",
   "pygments_lexer": "ipython3",
   "version": "3.7.4"
  }
 },
 "nbformat": 4,
 "nbformat_minor": 2
}
