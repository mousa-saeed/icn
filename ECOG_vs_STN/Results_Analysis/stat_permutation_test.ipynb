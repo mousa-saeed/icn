{
 "cells": [
  {
   "cell_type": "code",
   "execution_count": 10,
   "metadata": {},
   "outputs": [],
   "source": [
    "import numpy as np\n",
    "from sklearn import datasets\n",
    "import scipy.stats as stats\n",
    "import matplotlib.pyplot as plt\n",
    "import seaborn as sns\n",
    "import random\n",
    "import copy\n",
    "import pandas as pd\n",
    "import statsmodels.api as sm\n",
    "import statsmodels.formula.api as smf\n",
    "\n",
    "BIDS_path= \"C:\\\\Users\\\\ICN_admin\\\\Dropbox (Brain Modulation Lab)\\\\Shared Lab Folders\\\\CRCNS\\\\MOVEMENT DATA\\\\\"\n",
    "subjects = ['000', '001', '004', '005', '006', '007', '008', '009', '010', '013', '014']\n"
   ]
  },
  {
   "cell_type": "code",
   "execution_count": 11,
   "metadata": {},
   "outputs": [],
   "source": [
    "df_all = pd.read_csv(\"df_all.csv\", index_col=0)"
   ]
  },
  {
   "cell_type": "code",
   "execution_count": 13,
   "metadata": {},
   "outputs": [
    {
     "name": "stdout",
     "output_type": "stream",
     "text": [
      "SpearmanrResult(correlation=-0.6104799437547951, pvalue=0.046060398811002226)\n",
      "                            OLS Regression Results                            \n",
      "==============================================================================\n",
      "Dep. Variable:                     r2   R-squared:                       0.307\n",
      "Model:                            OLS   Adj. R-squared:                  0.230\n",
      "Method:                 Least Squares   F-statistic:                     3.990\n",
      "Date:                Fri, 23 Oct 2020   Prob (F-statistic):             0.0769\n",
      "Time:                        10:11:45   Log-Likelihood:                 10.089\n",
      "No. Observations:                  11   AIC:                            -16.18\n",
      "Df Residuals:                       9   BIC:                            -15.38\n",
      "Df Model:                           1                                         \n",
      "Covariance Type:            nonrobust                                         \n",
      "==============================================================================\n",
      "                 coef    std err          t      P>|t|      [0.025      0.975]\n",
      "------------------------------------------------------------------------------\n",
      "Intercept      0.3094      0.114      2.718      0.024       0.052       0.567\n",
      "pred          -0.0053      0.003     -1.998      0.077      -0.011       0.001\n",
      "==============================================================================\n",
      "Omnibus:                       14.459   Durbin-Watson:                   1.048\n",
      "Prob(Omnibus):                  0.001   Jarque-Bera (JB):                8.239\n",
      "Skew:                           1.673   Prob(JB):                       0.0163\n",
      "Kurtosis:                       5.604   Cond. No.                         150.\n",
      "==============================================================================\n",
      "\n",
      "Warnings:\n",
      "[1] Standard Errors assume that the covariance matrix of the errors is correctly specified.\n"
     ]
    },
    {
     "name": "stderr",
     "output_type": "stream",
     "text": [
      "C:\\Users\\ICN_admin\\AppData\\Roaming\\Python\\Python37\\site-packages\\scipy\\stats\\stats.py:1604: UserWarning: kurtosistest only valid for n>=20 ... continuing anyway, n=11\n",
      "  \"anyway, n=%i\" % int(n))\n"
     ]
    }
   ],
   "source": [
    "df_here_STN = df_all[df_all[\"loc\"].str.contains(\"STN\")]\n",
    "df_here_ECOG = df_all[df_all[\"loc\"].str.contains(\"ECOG\")]\n",
    "per_ = []\n",
    "pred_ = []\n",
    "for sub in subjects:\n",
    "    sub_ = int(sub)\n",
    "    per_.append(np.concatenate((df_here_ECOG[df_here_ECOG[\"sub\"] == sub_][\"r2_con\"], \\\n",
    "                               df_here_ECOG[df_here_ECOG[\"sub\"] == sub_][\"r2_ips\"], \n",
    "                         df_here_STN[df_here_STN[\"sub\"] == sub_][\"r2_con\"], \\\n",
    "                               df_here_STN[df_here_STN[\"sub\"] == sub_][\"r2_ips\"])).mean())\n",
    "\n",
    "    pred_.append(df_here_ECOG[df_here_ECOG[\"sub\"] == sub_][\"UPDRS_total\"].iloc[0]) \n",
    "\n",
    "\n",
    "df_comp = pd.DataFrame()\n",
    "df_comp[\"r2\"] = np.array(per_)\n",
    "df_comp[\"pred\"] = pred_\n",
    "print(stats.spearmanr(df_comp[\"r2\"], df_comp[\"pred\"]))\n",
    "\n",
    "model = smf.ols(\"r2~pred\", data=df_comp)\n",
    "results = model.fit()\n",
    "\n",
    "print(results.summary())"
   ]
  },
  {
   "cell_type": "markdown",
   "metadata": {},
   "source": [
    "### Step 1, metric chooses: MEAN"
   ]
  },
  {
   "cell_type": "markdown",
   "metadata": {},
   "source": [
    "#### The two distributions are seaparared by a median split\n",
    "#### Here the R^2 values are based on the mean of ECOG and STN, but will be any performance "
   ]
  },
  {
   "cell_type": "markdown",
   "metadata": {},
   "source": [
    "The only meaningful way to perform permutation test seems here splitting the distr. into two, based on the argsort order of the UPDRS \n",
    "Argsort: klein zu groß"
   ]
  },
  {
   "cell_type": "code",
   "execution_count": 28,
   "metadata": {
    "scrolled": true
   },
   "outputs": [],
   "source": [
    "arr_UPDRS_sorted = np.array(df_comp[\"r2\"][np.argsort(df_comp[\"pred\"])])"
   ]
  },
  {
   "cell_type": "code",
   "execution_count": 31,
   "metadata": {},
   "outputs": [
    {
     "data": {
      "text/plain": [
       "(array([0.16680003, 0.42692879, 0.06712371, 0.01862607, 0.08808695]),\n",
       " array([0.02230378, 0.00990473, 0.00646169, 0.06215355, 0.02472174]))"
      ]
     },
     "execution_count": 31,
     "metadata": {},
     "output_type": "execute_result"
    }
   ],
   "source": [
    "arr_UPDRS_sorted[:5], arr_UPDRS_sorted[6:]"
   ]
  },
  {
   "cell_type": "markdown",
   "metadata": {},
   "source": [
    "#### 2. Step: compute ground truth, difference of the means"
   ]
  },
  {
   "cell_type": "code",
   "execution_count": 56,
   "metadata": {},
   "outputs": [],
   "source": [
    "gT = np.abs(np.average(arr_UPDRS_sorted[:int(arr_UPDRS_sorted.shape[0]/2)]) - \n",
    "            np.average(arr_UPDRS_sorted[int(arr_UPDRS_sorted.shape[0]/2):]))"
   ]
  },
  {
   "cell_type": "code",
   "execution_count": 57,
   "metadata": {},
   "outputs": [
    {
     "data": {
      "text/plain": [
       "0.11407034466907173"
      ]
     },
     "execution_count": 57,
     "metadata": {},
     "output_type": "execute_result"
    }
   ],
   "source": [
    "gT"
   ]
  },
  {
   "cell_type": "markdown",
   "metadata": {},
   "source": [
    "#### 3. Step: Pool variable into one distribution"
   ]
  },
  {
   "cell_type": "code",
   "execution_count": 58,
   "metadata": {},
   "outputs": [],
   "source": [
    "pV = arr_UPDRS_sorted # this is the whole UPDRS sorted array here actually"
   ]
  },
  {
   "cell_type": "markdown",
   "metadata": {},
   "source": [
    "#### 4. Step: Randomly sample (also called bootstrapping) without replacement two distributions with the size equal to the original distributions from this pooled distribution to compute the absolute difference RΔτ of your metric between your two permuted samples:"
   ]
  },
  {
   "cell_type": "code",
   "execution_count": 71,
   "metadata": {},
   "outputs": [],
   "source": [
    "#Copy pooled distribution:\n",
    "pS = copy.copy(pV)\n",
    "#Initialize permutation:\n",
    "pD = []\n",
    "#Define p (number of permutations):\n",
    "p=5000\n",
    "# Permutation loop:\n",
    "for i in range(0,p):\n",
    "  # Shuffle the data:\n",
    "    random.shuffle(pS)\n",
    "    # Compute permuted absolute difference of your two sampled distributions and store it in pD:\n",
    "    pD.append(np.abs(np.average(pS[0:int(len(pS)/2)]) - np.average(pS[int(len(pS)/2):])))"
   ]
  },
  {
   "cell_type": "markdown",
   "metadata": {},
   "source": [
    "#### 5. Finally, the proportion of permuted differences higher than your ground truth difference is your significance value:"
   ]
  },
  {
   "cell_type": "code",
   "execution_count": 72,
   "metadata": {},
   "outputs": [],
   "source": [
    "p_val = len(np.where(pD>=gT)[0])/p"
   ]
  },
  {
   "cell_type": "code",
   "execution_count": 73,
   "metadata": {},
   "outputs": [
    {
     "data": {
      "text/plain": [
       "0.071"
      ]
     },
     "execution_count": 73,
     "metadata": {},
     "output_type": "execute_result"
    }
   ],
   "source": [
    "p_val"
   ]
  },
  {
   "cell_type": "code",
   "execution_count": 74,
   "metadata": {},
   "outputs": [
    {
     "data": {
      "image/png": "[encoded data removed]",
      "text/plain": [
       "<Figure size 432x288 with 1 Axes>"
      ]
     },
     "metadata": {
      "needs_background": "light"
     },
     "output_type": "display_data"
    }
   ],
   "source": [
    "plt.hist(pD, bins=30,label=\"permutation results\")\n",
    "plt.axvline(gT, color=\"orange\", label=\"ground truth\")\n",
    "plt.title(\"p=\"+str(p_val))\n",
    "plt.xlabel(r\"$R^2$\")\n",
    "plt.legend()\n",
    "plt.show()"
   ]
  },
  {
   "cell_type": "code",
   "execution_count": 76,
   "metadata": {},
   "outputs": [],
   "source": [
    "### Write this as a function \n",
    "def permutationTestMedianSplit(x, y, plot_=True, x_unit=None, p=5000):\n",
    "    \"\"\"\n",
    "    Calculate permutation test\n",
    "    https://towardsdatascience.com/how-to-assess-statistical-significance-in-your-data-with-permutation-tests-8bb925b2113d\n",
    "\n",
    "    x (np array) : distribution that will be compared statistically e.g. R^2\n",
    "    y (np array) : according ordinal values e.g. UPDRS\n",
    "    plot_ (boolean) : if True: permutation histplot and ground truth will be potted\n",
    "    x_unit (str) : histplot xlabel \n",
    "    p (int): number of permutations\n",
    "    \"\"\"\n",
    "    \n",
    "    # first, order y, and take respective values of x \n",
    "    arr_argsort = x[np.argsort(y)]\n",
    "    \n",
    "    # compute ground truth difference\n",
    "    gT = np.abs(np.average(arr_argsort[:int(arr_argsort.shape[0]/2)]) - \n",
    "            np.average(arr_argsort[int(arr_argsort.shape[0]/2):]))\n",
    "    \n",
    "    # \n",
    "    pV = arr_argsort\n",
    "    pS = copy.copy(pV)\n",
    "    #Initialize permutation:\n",
    "    pD = []\n",
    "    # Permutation loop:\n",
    "    for i in range(0,p):\n",
    "      # Shuffle the data:\n",
    "        random.shuffle(pS)\n",
    "        # Compute permuted absolute difference of your two sampled distributions and store it in pD:\n",
    "        pD.append(np.abs(np.average(pS[0:int(len(pS)/2)]) - np.average(pS[int(len(pS)/2):])))\n",
    "    \n",
    "    # calculate p value\n",
    "    p_val = len(np.where(pD>=gT)[0])/p\n",
    "    \n",
    "    if plot_ is True:    \n",
    "        plt.hist(pD, bins=30,label=\"permutation results\")\n",
    "        plt.axvline(gT, color=\"orange\", label=\"ground truth\")\n",
    "        plt.title(\"p=\"+str(p_val))\n",
    "        plt.xlabel(r\"$R^2$\")\n",
    "        plt.legend()\n",
    "        plt.show()\n",
    "    return p_val"
   ]
  },
  {
   "cell_type": "code",
   "execution_count": 78,
   "metadata": {},
   "outputs": [
    {
     "data": {
      "image/png": "[encoded data removed]",
      "text/plain": [
       "<Figure size 432x288 with 1 Axes>"
      ]
     },
     "metadata": {
      "needs_background": "light"
     },
     "output_type": "display_data"
    },
    {
     "data": {
      "text/plain": [
       "0.0754"
      ]
     },
     "execution_count": 78,
     "metadata": {},
     "output_type": "execute_result"
    }
   ],
   "source": [
    "permutationTestMedianSplit(x=np.array(df_comp[\"r2\"]), y=np.array(df_comp[\"pred\"]), plot_=True, x_unit=r\"$R^2$\")"
   ]
  },
  {
   "cell_type": "code",
   "execution_count": 79,
   "metadata": {},
   "outputs": [],
   "source": [
    "### Now write a second version where two distributions are compared \n",
    "### Write this as a function \n",
    "def permutationTest(x, y, plot_=True, x_unit=None, p=5000):\n",
    "    \"\"\"\n",
    "    Calculate permutation test\n",
    "    https://towardsdatascience.com/how-to-assess-statistical-significance-in-your-data-with-permutation-tests-8bb925b2113d\n",
    "\n",
    "    x (np array) : first distr.\n",
    "    y (np array) : first distr.\n",
    "    plot_ (boolean) : if True: permutation histplot and ground truth will be potted\n",
    "    x_unit (str) : histplot xlabel \n",
    "    p (int): number of permutations\n",
    "    \"\"\"\n",
    "    \n",
    "    \n",
    "    # compute ground truth difference\n",
    "    gT = np.abs(np.average(x) - np.average(y))\n",
    "    \n",
    "    \n",
    "    pV = np.concatenate((x,y), axis=0)\n",
    "    pS = copy.copy(pV)\n",
    "    #Initialize permutation:\n",
    "    pD = []\n",
    "    # Permutation loop:\n",
    "    for i in range(0,p):\n",
    "      # Shuffle the data:\n",
    "        random.shuffle(pS)\n",
    "        # Compute permuted absolute difference of your two sampled distributions and store it in pD:\n",
    "        pD.append(np.abs(np.average(pS[0:int(len(pS)/2)]) - np.average(pS[int(len(pS)/2):])))\n",
    "    \n",
    "    # calculate p value\n",
    "    p_val = len(np.where(pD>=gT)[0])/p\n",
    "    \n",
    "    if plot_ is True:    \n",
    "        plt.hist(pD, bins=30,label=\"permutation results\")\n",
    "        plt.axvline(gT, color=\"orange\", label=\"ground truth\")\n",
    "        plt.title(\"p=\"+str(p_val))\n",
    "        plt.xlabel(r\"$R^2$\")\n",
    "        plt.legend()\n",
    "        plt.show()\n",
    "    return p_val"
   ]
  },
  {
   "cell_type": "code",
   "execution_count": 81,
   "metadata": {},
   "outputs": [
    {
     "data": {
      "image/png": "[encoded data removed]",
      "text/plain": [
       "<Figure size 432x288 with 1 Axes>"
      ]
     },
     "metadata": {
      "needs_background": "light"
     },
     "output_type": "display_data"
    },
    {
     "data": {
      "text/plain": [
       "0.155"
      ]
     },
     "execution_count": 81,
     "metadata": {},
     "output_type": "execute_result"
    }
   ],
   "source": [
    "permutationTest(np.random.random(10), np.random.random(10), True, \"keine\", 1000)"
   ]
  },
  {
   "cell_type": "code",
   "execution_count": null,
   "metadata": {},
   "outputs": [],
   "source": []
  }
 ],
 "metadata": {
  "kernelspec": {
   "display_name": "Python 3",
   "language": "python",
   "name": "python3"
  },
  "language_info": {
   "codemirror_mode": {
    "name": "ipython",
    "version": 3
   },
   "file_extension": ".py",
   "mimetype": "text/x-python",
   "name": "python",
   "nbconvert_exporter": "python",
   "pygments_lexer": "ipython3",
   "version": "3.7.4"
  }
 },
 "nbformat": 4,
 "nbformat_minor": 2
}
