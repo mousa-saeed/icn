{
 "cells": [
  {
   "cell_type": "code",
   "execution_count": 1,
   "metadata": {},
   "outputs": [
    {
     "data": {
      "text/plain": [
       "'en_US.UTF-8'"
      ]
     },
     "execution_count": 1,
     "metadata": {},
     "output_type": "execute_result"
    }
   ],
   "source": [
    "import matplotlib.pyplot as plt\n",
    "from scipy.linalg import eigh\n",
    "import numpy as np\n",
    "import mne\n",
    "from mne import Epochs\n",
    "from mne.datasets.fieldtrip_cmc import data_path\n",
    "from mne.utils import _time_mask\n",
    "from mne.channels import read_layout\n",
    "from mne.decoding import TransformerMixin, BaseEstimator\n",
    "from ssd import  SSD\n",
    "\n",
    "import locale\n",
    "locale.setlocale(locale.LC_ALL, \"en_US.UTF-8\") #needed for local machine in spanish"
   ]
  },
  {
   "cell_type": "code",
   "execution_count": 2,
   "metadata": {},
   "outputs": [],
   "source": [
    "def freq_mask(freqs, fmin, fmax):\n",
    "    \"\"\"convenience function to select frequencies\"\"\"\n",
    "    return _time_mask(freqs, fmin, fmax)\n"
   ]
  },
  {
   "cell_type": "code",
   "execution_count": 3,
   "metadata": {},
   "outputs": [
    {
     "name": "stdout",
     "output_type": "stream",
     "text": [
      "ds directory : /home/victoria/mne_data/MNE-fieldtrip_cmc-data/SubjectCMC.ds\n",
      "    res4 data read.\n",
      "    hc data read.\n",
      "    Separate EEG position data file not present.\n",
      "    Quaternion matching (desired vs. transformed):\n",
      "       0.33   78.32    0.00 mm <->    0.33   78.32    0.00 mm (orig :  -71.62   40.46 -256.48 mm) diff =    0.000 mm\n",
      "      -0.33  -78.32   -0.00 mm <->   -0.33  -78.32   -0.00 mm (orig :   39.27  -70.16 -258.60 mm) diff =    0.000 mm\n",
      "     114.65    0.00   -0.00 mm <->  114.65    0.00    0.00 mm (orig :   64.35   66.64 -262.01 mm) diff =    0.000 mm\n",
      "    Coordinate transformations established.\n",
      "    Polhemus data for 3 HPI coils added\n",
      "    Device coordinate locations for 3 HPI coils added\n",
      "Picked positions of 4 EEG channels from channel info\n",
      "    4 EEG locations added to Polhemus data.\n",
      "    Measurement info composed.\n",
      "Finding samples for /home/victoria/mne_data/MNE-fieldtrip_cmc-data/SubjectCMC.ds/SubjectCMC.meg4: \n",
      "    System clock channel is available, checking which samples are valid.\n",
      "    75 x 12000 = 911610 samples from 191 chs\n",
      "    390 samples omitted at the end\n",
      "Current compensation grade : 0\n",
      "Reading 0 ... 240000  =      0.000 ...   200.000 secs...\n"
     ]
    }
   ],
   "source": [
    "# Define parameters\n",
    "fname = data_path() + '/SubjectCMC.ds'\n",
    "raw = mne.io.read_raw_ctf(fname)\n",
    "raw.crop(50., 250.).load_data()  # crop for memory purposes\n",
    "\n",
    "freqs_sig = 9, 12\n",
    "freqs_noise = 8, 13\n",
    "\n",
    "\n",
    "picks=mne.pick_types(raw.info, meg=True, eeg=False, ref_meg=False)"
   ]
  },
  {
   "cell_type": "code",
   "execution_count": 4,
   "metadata": {},
   "outputs": [],
   "source": [
    "#SSD\n",
    "ssd = SSD(filt_params_signal=dict(l_freq=freqs_sig[0], h_freq=freqs_sig[1],\n",
    "                                  l_trans_bandwidth=1, h_trans_bandwidth=1,\n",
    "                                  fir_design='firwin'),\n",
    "          filt_params_noise=dict(l_freq=freqs_noise[0], h_freq=freqs_noise[1],\n",
    "                                  l_trans_bandwidth=1, h_trans_bandwidth=1,\n",
    "                                  fir_design='firwin'), \n",
    "          sampling_freq=raw.info['sfreq'], \n",
    "          picks=picks)"
   ]
  },
  {
   "cell_type": "code",
   "execution_count": 5,
   "metadata": {},
   "outputs": [
    {
     "name": "stdout",
     "output_type": "stream",
     "text": [
      "Filtering a subset of channels. The highpass and lowpass values in the measurement info will not be updated.\n",
      "Filtering raw data in 1 contiguous segment\n",
      "Setting up band-pass filter from 9 - 12 Hz\n",
      "\n",
      "FIR filter parameters\n",
      "---------------------\n",
      "Designing a one-pass, zero-phase, non-causal bandpass filter:\n",
      "- Windowed time-domain design (firwin) method\n",
      "- Hamming window with 0.0194 passband ripple and 53 dB stopband attenuation\n",
      "- Lower passband edge: 9.00\n",
      "- Lower transition bandwidth: 1.00 Hz (-6 dB cutoff frequency: 8.50 Hz)\n",
      "- Upper passband edge: 12.00 Hz\n",
      "- Upper transition bandwidth: 1.00 Hz (-6 dB cutoff frequency: 12.50 Hz)\n",
      "- Filter length: 3961 samples (3.301 sec)\n",
      "\n",
      "Filtering a subset of channels. The highpass and lowpass values in the measurement info will not be updated.\n",
      "Filtering raw data in 1 contiguous segment\n",
      "Setting up band-pass filter from 8 - 13 Hz\n",
      "\n",
      "FIR filter parameters\n",
      "---------------------\n",
      "Designing a one-pass, zero-phase, non-causal bandpass filter:\n",
      "- Windowed time-domain design (firwin) method\n",
      "- Hamming window with 0.0194 passband ripple and 53 dB stopband attenuation\n",
      "- Lower passband edge: 8.00\n",
      "- Lower transition bandwidth: 1.00 Hz (-6 dB cutoff frequency: 7.50 Hz)\n",
      "- Upper passband edge: 13.00 Hz\n",
      "- Upper transition bandwidth: 1.00 Hz (-6 dB cutoff frequency: 13.50 Hz)\n",
      "- Filter length: 3961 samples (3.301 sec)\n",
      "\n",
      "Using up to 600 segments\n",
      "Computing rank from data with rank=None\n",
      "    Using tolerance 8.6e-09 (2.2e-16 eps * 151 dim * 2.6e+05  max singular value)\n",
      "    Estimated rank (mag): 151\n",
      "    MAG: rank 151 computed from 151 data channels with 0 projectors\n",
      "Reducing data rank from 151 -> 151\n",
      "Estimating covariance using OAS\n",
      "Done.\n",
      "Number of samples used : 144000\n",
      "[done]\n",
      "Using up to 600 segments\n",
      "Computing rank from data with rank=None\n",
      "    Using tolerance 3.9e-09 (2.2e-16 eps * 151 dim * 1.2e+05  max singular value)\n",
      "    Estimated rank (mag): 151\n",
      "    MAG: rank 151 computed from 151 data channels with 0 projectors\n",
      "Reducing data rank from 151 -> 151\n",
      "Estimating covariance using OAS\n",
      "Done.\n",
      "Number of samples used : 144000\n",
      "[done]\n"
     ]
    },
    {
     "name": "stderr",
     "output_type": "stream",
     "text": [
      "/home/victoria/anaconda3/envs/icn/lib/python3.7/site-packages/sklearn/base.py:197: FutureWarning: From version 0.24, get_params will raise an AttributeError if a parameter cannot be retrieved as an instance attribute. Previously it would return None.\n",
      "  FutureWarning)\n"
     ]
    },
    {
     "data": {
      "text/plain": [
       "SSD(cov_method_params=None, estimator='oas',\n",
       "    filt_params_noise={'fir_design': 'firwin', 'h_freq': 13,\n",
       "                       'h_trans_bandwidth': 1, 'l_freq': 8,\n",
       "                       'l_trans_bandwidth': 1},\n",
       "    filt_params_signal={'fir_design': 'firwin', 'h_freq': 12,\n",
       "                        'h_trans_bandwidth': 1, 'l_freq': 9,\n",
       "                        'l_trans_bandwidth': 1},\n",
       "    n_components=None, picks=None, rank=None, sampling_freq=1200.0,\n",
       "    sort_by_spectral_ratio=True)"
      ]
     },
     "execution_count": 5,
     "metadata": {},
     "output_type": "execute_result"
    }
   ],
   "source": [
    "ssd.fit(raw.copy().crop(0, 120))"
   ]
  },
  {
   "cell_type": "code",
   "execution_count": 6,
   "metadata": {},
   "outputs": [
    {
     "name": "stdout",
     "output_type": "stream",
     "text": [
      "Effective window size : 0.500 (s)\n"
     ]
    }
   ],
   "source": [
    "ssd_sources = ssd.transform(raw)\n"
   ]
  },
  {
   "cell_type": "code",
   "execution_count": 7,
   "metadata": {},
   "outputs": [
    {
     "name": "stdout",
     "output_type": "stream",
     "text": [
      "Effective window size : 0.500 (s)\n"
     ]
    }
   ],
   "source": [
    "psd, freqs = mne.time_frequency.psd_array_welch(\n",
    "    ssd_sources, sfreq=raw.info['sfreq'], n_fft=int(np.ceil(raw.info['sfreq']/2)))"
   ]
  },
  {
   "cell_type": "code",
   "execution_count": null,
   "metadata": {},
   "outputs": [],
   "source": [
    "spec_ratio = ssd.spec_ratio\n",
    "\n",
    "sorter = ssd.sorter_spec"
   ]
  }
 ],
 "metadata": {
  "kernelspec": {
   "display_name": "Python 3",
   "language": "python",
   "name": "python3"
  },
  "language_info": {
   "codemirror_mode": {
    "name": "ipython",
    "version": 3
   },
   "file_extension": ".py",
   "mimetype": "text/x-python",
   "name": "python",
   "nbconvert_exporter": "python",
   "pygments_lexer": "ipython3",
   "version": "3.7.7"
  }
 },
 "nbformat": 4,
 "nbformat_minor": 4
}
