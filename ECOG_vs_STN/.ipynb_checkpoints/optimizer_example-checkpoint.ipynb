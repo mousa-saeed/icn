{
 "cells": [
  {
   "cell_type": "code",
   "execution_count": 2,
   "metadata": {},
   "outputs": [],
   "source": [
    "import numpy as np\n",
    "from matplotlib import pyplot as plt\n",
    "from sklearn.metrics import r2_score, roc_auc_score\n",
    "import pickle\n",
    "import sys\n",
    "import os\n",
    "\n",
    "from sklearn.linear_model import ElasticNet\n",
    "\n",
    "from scipy import stats\n",
    "from collections import OrderedDict\n",
    "from sklearn.model_selection import KFold, cross_val_score\n",
    "from sklearn.pipeline import make_pipeline\n",
    "from sklearn import metrics\n",
    "from bayes_opt import BayesianOptimization\n",
    "from skopt.space import Real, Integer, Categorical\n",
    "from skopt.utils import use_named_args\n",
    "from skopt import gp_minimize\n",
    "import gc\n",
    "from sklearn.preprocessing import StandardScaler\n",
    "\n",
    "#from xgboost import XGBRegressor"
   ]
  },
  {
   "cell_type": "code",
   "execution_count": 3,
   "metadata": {},
   "outputs": [],
   "source": [
    "space_LM = [Real(0, 1, \"uniform\", name='alpha'),\n",
    "           Real(0, 1, \"uniform\", name='l1_ratio')]\n",
    "\n",
    "space_XGB = [Integer(1, 10, name='max_depth'),\n",
    "          Real(10**-5, 10**0, \"log-uniform\", name='learning_rate'),\n",
    "          Real(10**0, 10**1, \"uniform\", name=\"gamma\")]\n",
    "\n",
    "space_NN = [Real(low=1e-4, high=1e-2, prior='log-uniform', name='learning_rate'),\n",
    "              Integer(low=1, high=3, name='num_dense_layers'),\n",
    "              Integer(low=1, high=10, prior='uniform', name='num_input_nodes'),\n",
    "              Integer(low=1, high=10, name='num_dense_nodes'),\n",
    "              Categorical(categories=['relu', 'tanh'], name='activation')]"
   ]
  },
  {
   "cell_type": "code",
   "execution_count": 4,
   "metadata": {},
   "outputs": [],
   "source": [
    "def optimize_enet(x,y):\n",
    "\n",
    "    @use_named_args(space_LM)\n",
    "    def objective(**params):\n",
    "        reg=ElasticNet(max_iter=1000, normalize=False)\n",
    "        reg.set_params(**params)\n",
    "        cval = cross_val_score(reg, x, y, scoring='r2', cv=3)\n",
    "        cval[np.where(cval < 0)[0]] = 0\n",
    "\n",
    "        return -cval.mean()\n",
    "\n",
    "    res_gp = gp_minimize(objective, space_LM, n_calls=20, random_state=0)\n",
    "    return res_gp\n"
   ]
  },
  {
   "cell_type": "code",
   "execution_count": 5,
   "metadata": {},
   "outputs": [],
   "source": [
    "def enet_train(alpha,l1_ratio,x,y):\n",
    "    clf=ElasticNet(alpha=alpha, l1_ratio=l1_ratio, max_iter=1000,normalize=False)\n",
    "    #clf.fit(x,y)\n",
    "    \n",
    "    cval = cross_val_score(clf, x, y, scoring='r2', cv=3)\n",
    "    cval[np.where(cval < 0)[0]] = 0\n",
    "    return cval.mean()\n",
    "    \n",
    "    return clf.score(x, y)\n",
    "def optimize_enet_bayesopt(x,y):\n",
    "    \"\"\"Apply Bayesian Optimization to select enet parameters.\"\"\"\n",
    "    def function(alpha, l1_ratio):\n",
    "          \n",
    "        return enet_train(alpha=alpha, l1_ratio=l1_ratio, x=x, y=y)\n",
    "    \n",
    "    optimizer = BayesianOptimization(\n",
    "        f=function,\n",
    "        pbounds={\"alpha\": (1e-4, 0.99), \"l1_ratio\": (1e-4,0.99)},\n",
    "        random_state=0,\n",
    "        verbose=1,\n",
    "    )\n",
    "    optimizer.probe(\n",
    "    params=[1e-3, 1e-3],\n",
    "    lazy=True,\n",
    "    )\n",
    "    optimizer.maximize(n_iter=25, init_points=20, acq=\"ei\", xi=1e-1)\n",
    "\n",
    "    \n",
    "    #train enet\n",
    "    \n",
    "    return optimizer.max"
   ]
  },
  {
   "cell_type": "code",
   "execution_count": 7,
   "metadata": {},
   "outputs": [],
   "source": [
    "#### read a real data stream file \n",
    "PATH_dat =\"C:\\\\Users\\Pilin\\Dropbox (Brain Modulation Lab)\\Shared Lab Folders\\CRCNS\\MOVEMENT DATA\\derivatives\\Int_old_grid\\sub_003_sess_right_run_4.p\"\n",
    "#\"C:\\\\Users\\\\ICN_admin\\\\Dropbox (Brain Modulation Lab)\\\\Shared Lab Folders\\\\CRCNS\\\\MOVEMENT DATA\\\\derivatives\\\\Int_old_grid\\\\sub_003_sess_right_run_4.p\""
   ]
  },
  {
   "cell_type": "code",
   "execution_count": 8,
   "metadata": {},
   "outputs": [],
   "source": [
    "raw_ = np.load(PATH_dat, allow_pickle=True)"
   ]
  },
  {
   "cell_type": "code",
   "execution_count": 9,
   "metadata": {},
   "outputs": [
    {
     "data": {
      "text/plain": [
       "dict_keys(['vhdr_file', 'resamplingrate', 'BIDS_path', 'projection_grid', 'bv_raw', 'ch_names', 'data_', 'subject', 'run', 'sess', 'sess_right', 'used_channels', 'coord_patient', 'proj_matrix_run', 'fs', 'line_noise', 'seglengths', 'normalization_samples', 'new_num_data_points', 'downsample_idx', 'filter_fun', 'offset_start', 'arr_act_grid_points', 'rf_data_median', 'pf_data_median', 'raw_label_baseline', 'label_baseline_corrected', 'label_baseline_corrected_onoff', 'label', 'label_con_true'])"
      ]
     },
     "execution_count": 9,
     "metadata": {},
     "output_type": "execute_result"
    }
   ],
   "source": [
    "raw_.keys()"
   ]
  },
  {
   "cell_type": "code",
   "execution_count": 10,
   "metadata": {},
   "outputs": [],
   "source": [
    "def append_time_dim(arr, y_, time_stamps):\n",
    "    \"\"\"\n",
    "    apply added time dimension for the data array and label given time_stamps (with downsample_rate=100) in 100ms / need to check with 1375Hz\n",
    "    \"\"\"\n",
    "    time_arr = np.zeros([arr.shape[0]-time_stamps, int(time_stamps*arr.shape[1])])\n",
    "    for time_idx, time_ in enumerate(np.arange(time_stamps, arr.shape[0])):\n",
    "        for time_point in range(time_stamps):\n",
    "            time_arr[time_idx, time_point*arr.shape[1]:(time_point+1)*arr.shape[1]] = arr[time_-time_point,:]\n",
    "    return time_arr, y_[time_stamps:]"
   ]
  },
  {
   "cell_type": "code",
   "execution_count": 11,
   "metadata": {},
   "outputs": [
    {
     "data": {
      "text/plain": [
       "['STN_RIGHT_0',\n",
       " 'STN_RIGHT_1',\n",
       " 'STN_RIGHT_2',\n",
       " 'ECOG_RIGHT_0',\n",
       " 'ECOG_RIGHT_1',\n",
       " 'ECOG_RIGHT_2',\n",
       " 'ECOG_RIGHT_3',\n",
       " 'ECOG_RIGHT_4',\n",
       " 'ECOG_RIGHT_5',\n",
       " 'ECOG_RIGHT_6',\n",
       " 'ECOG_RIGHT_7',\n",
       " 'MOV_RIGHT',\n",
       " 'MOV_LEFT']"
      ]
     },
     "execution_count": 11,
     "metadata": {},
     "output_type": "execute_result"
    }
   ],
   "source": [
    "raw_[\"ch_names\"]"
   ]
  },
  {
   "cell_type": "code",
   "execution_count": 12,
   "metadata": {},
   "outputs": [],
   "source": [
    "X = raw_[\"rf_data_median\"][:,0,:] # ch 0 STN_RIGHT_0\n",
    "y = raw_[\"label_baseline_corrected\"][0,:]"
   ]
  },
  {
   "cell_type": "code",
   "execution_count": 13,
   "metadata": {},
   "outputs": [],
   "source": [
    "X_, y_ = append_time_dim(X, y, time_stamps=5)"
   ]
  },
  {
   "cell_type": "code",
   "execution_count": 14,
   "metadata": {
    "scrolled": true
   },
   "outputs": [
    {
     "name": "stderr",
     "output_type": "stream",
     "text": [
      "C:\\Users\\Pilin\\Anaconda3\\envs\\base (root)\\lib\\site-packages\\sklearn\\linear_model\\_coordinate_descent.py:476: ConvergenceWarning: Objective did not converge. You might want to increase the number of iterations. Duality gap: 7.135183535179679, tolerance: 0.0014794045058607024\n",
      "  positive)\n",
      "C:\\Users\\Pilin\\Anaconda3\\envs\\base (root)\\lib\\site-packages\\sklearn\\linear_model\\_coordinate_descent.py:476: ConvergenceWarning: Objective did not converge. You might want to increase the number of iterations. Duality gap: 8.472250847507858, tolerance: 0.001744806472822137\n",
      "  positive)\n",
      "C:\\Users\\Pilin\\Anaconda3\\envs\\base (root)\\lib\\site-packages\\sklearn\\linear_model\\_coordinate_descent.py:476: ConvergenceWarning: Objective did not converge. You might want to increase the number of iterations. Duality gap: 12.127917521893236, tolerance: 0.00251898559993813\n",
      "  positive)\n",
      "C:\\Users\\Pilin\\Anaconda3\\envs\\base (root)\\lib\\site-packages\\skopt\\optimizer\\optimizer.py:409: UserWarning: The objective has been evaluated at this point before.\n",
      "  warnings.warn(\"The objective has been evaluated \"\n",
      "C:\\Users\\Pilin\\Anaconda3\\envs\\base (root)\\lib\\site-packages\\sklearn\\linear_model\\_coordinate_descent.py:476: ConvergenceWarning: Objective did not converge. You might want to increase the number of iterations. Duality gap: 7.135183535179679, tolerance: 0.0014794045058607024\n",
      "  positive)\n",
      "C:\\Users\\Pilin\\Anaconda3\\envs\\base (root)\\lib\\site-packages\\sklearn\\linear_model\\_coordinate_descent.py:476: ConvergenceWarning: Objective did not converge. You might want to increase the number of iterations. Duality gap: 8.472250847507858, tolerance: 0.001744806472822137\n",
      "  positive)\n",
      "C:\\Users\\Pilin\\Anaconda3\\envs\\base (root)\\lib\\site-packages\\sklearn\\linear_model\\_coordinate_descent.py:476: ConvergenceWarning: Objective did not converge. You might want to increase the number of iterations. Duality gap: 12.127917521893236, tolerance: 0.00251898559993813\n",
      "  positive)\n",
      "C:\\Users\\Pilin\\Anaconda3\\envs\\base (root)\\lib\\site-packages\\skopt\\optimizer\\optimizer.py:409: UserWarning: The objective has been evaluated at this point before.\n",
      "  warnings.warn(\"The objective has been evaluated \"\n",
      "C:\\Users\\Pilin\\Anaconda3\\envs\\base (root)\\lib\\site-packages\\sklearn\\linear_model\\_coordinate_descent.py:476: ConvergenceWarning: Objective did not converge. You might want to increase the number of iterations. Duality gap: 7.135183535179679, tolerance: 0.0014794045058607024\n",
      "  positive)\n",
      "C:\\Users\\Pilin\\Anaconda3\\envs\\base (root)\\lib\\site-packages\\sklearn\\linear_model\\_coordinate_descent.py:476: ConvergenceWarning: Objective did not converge. You might want to increase the number of iterations. Duality gap: 8.472250847507858, tolerance: 0.001744806472822137\n",
      "  positive)\n",
      "C:\\Users\\Pilin\\Anaconda3\\envs\\base (root)\\lib\\site-packages\\sklearn\\linear_model\\_coordinate_descent.py:476: ConvergenceWarning: Objective did not converge. You might want to increase the number of iterations. Duality gap: 12.127917521893236, tolerance: 0.00251898559993813\n",
      "  positive)\n",
      "C:\\Users\\Pilin\\Anaconda3\\envs\\base (root)\\lib\\site-packages\\skopt\\optimizer\\optimizer.py:409: UserWarning: The objective has been evaluated at this point before.\n",
      "  warnings.warn(\"The objective has been evaluated \"\n",
      "C:\\Users\\Pilin\\Anaconda3\\envs\\base (root)\\lib\\site-packages\\sklearn\\linear_model\\_coordinate_descent.py:476: ConvergenceWarning: Objective did not converge. You might want to increase the number of iterations. Duality gap: 7.135183535179679, tolerance: 0.0014794045058607024\n",
      "  positive)\n",
      "C:\\Users\\Pilin\\Anaconda3\\envs\\base (root)\\lib\\site-packages\\sklearn\\linear_model\\_coordinate_descent.py:476: ConvergenceWarning: Objective did not converge. You might want to increase the number of iterations. Duality gap: 8.472250847507858, tolerance: 0.001744806472822137\n",
      "  positive)\n",
      "C:\\Users\\Pilin\\Anaconda3\\envs\\base (root)\\lib\\site-packages\\sklearn\\linear_model\\_coordinate_descent.py:476: ConvergenceWarning: Objective did not converge. You might want to increase the number of iterations. Duality gap: 12.127917521893236, tolerance: 0.00251898559993813\n",
      "  positive)\n",
      "C:\\Users\\Pilin\\Anaconda3\\envs\\base (root)\\lib\\site-packages\\skopt\\optimizer\\optimizer.py:409: UserWarning: The objective has been evaluated at this point before.\n",
      "  warnings.warn(\"The objective has been evaluated \"\n",
      "C:\\Users\\Pilin\\Anaconda3\\envs\\base (root)\\lib\\site-packages\\sklearn\\linear_model\\_coordinate_descent.py:476: ConvergenceWarning: Objective did not converge. You might want to increase the number of iterations. Duality gap: 7.135183535179679, tolerance: 0.0014794045058607024\n",
      "  positive)\n",
      "C:\\Users\\Pilin\\Anaconda3\\envs\\base (root)\\lib\\site-packages\\sklearn\\linear_model\\_coordinate_descent.py:476: ConvergenceWarning: Objective did not converge. You might want to increase the number of iterations. Duality gap: 8.472250847507858, tolerance: 0.001744806472822137\n",
      "  positive)\n",
      "C:\\Users\\Pilin\\Anaconda3\\envs\\base (root)\\lib\\site-packages\\sklearn\\linear_model\\_coordinate_descent.py:476: ConvergenceWarning: Objective did not converge. You might want to increase the number of iterations. Duality gap: 12.127917521893236, tolerance: 0.00251898559993813\n",
      "  positive)\n",
      "C:\\Users\\Pilin\\Anaconda3\\envs\\base (root)\\lib\\site-packages\\skopt\\optimizer\\optimizer.py:409: UserWarning: The objective has been evaluated at this point before.\n",
      "  warnings.warn(\"The objective has been evaluated \"\n",
      "C:\\Users\\Pilin\\Anaconda3\\envs\\base (root)\\lib\\site-packages\\sklearn\\linear_model\\_coordinate_descent.py:476: ConvergenceWarning: Objective did not converge. You might want to increase the number of iterations. Duality gap: 7.135183535179679, tolerance: 0.0014794045058607024\n",
      "  positive)\n",
      "C:\\Users\\Pilin\\Anaconda3\\envs\\base (root)\\lib\\site-packages\\sklearn\\linear_model\\_coordinate_descent.py:476: ConvergenceWarning: Objective did not converge. You might want to increase the number of iterations. Duality gap: 8.472250847507858, tolerance: 0.001744806472822137\n",
      "  positive)\n",
      "C:\\Users\\Pilin\\Anaconda3\\envs\\base (root)\\lib\\site-packages\\sklearn\\linear_model\\_coordinate_descent.py:476: ConvergenceWarning: Objective did not converge. You might want to increase the number of iterations. Duality gap: 12.127917521893236, tolerance: 0.00251898559993813\n",
      "  positive)\n"
     ]
    }
   ],
   "source": [
    "optimizer=optimize_enet(x=X_,y=y_)"
   ]
  },
  {
   "cell_type": "code",
   "execution_count": 15,
   "metadata": {},
   "outputs": [
    {
     "data": {
      "text/plain": [
       "-0.013070825225774296"
      ]
     },
     "execution_count": 15,
     "metadata": {},
     "output_type": "execute_result"
    }
   ],
   "source": [
    "optimizer.fun"
   ]
  },
  {
   "cell_type": "code",
   "execution_count": 16,
   "metadata": {},
   "outputs": [
    {
     "data": {
      "text/plain": [
       "[1.0, 0.0]"
      ]
     },
     "execution_count": 16,
     "metadata": {},
     "output_type": "execute_result"
    }
   ],
   "source": [
    "optimizer[\"x\"]"
   ]
  },
  {
   "cell_type": "code",
   "execution_count": 35,
   "metadata": {},
   "outputs": [
    {
     "name": "stderr",
     "output_type": "stream",
     "text": [
      "C:\\Users\\Pilin\\Anaconda3\\envs\\base (root)\\lib\\site-packages\\sklearn\\linear_model\\_coordinate_descent.py:476: ConvergenceWarning: Objective did not converge. You might want to increase the number of iterations. Duality gap: 13.945504692626994, tolerance: 0.0028762885734443756\n",
      "  positive)\n"
     ]
    },
    {
     "data": {
      "text/plain": [
       "ElasticNet(alpha=1.0, copy_X=True, fit_intercept=True, l1_ratio=0.0,\n",
       "           max_iter=1000, normalize=False, positive=False, precompute=False,\n",
       "           random_state=None, selection='cyclic', tol=0.0001, warm_start=False)"
      ]
     },
     "execution_count": 35,
     "metadata": {},
     "output_type": "execute_result"
    }
   ],
   "source": [
    "model=ElasticNet(alpha=optimizer.x[0], l1_ratio=optimizer.x[1], max_iter=1000)\n",
    "model.fit(X_, y_)\n"
   ]
  },
  {
   "cell_type": "code",
   "execution_count": 22,
   "metadata": {},
   "outputs": [],
   "source": [
    "# get coef and plot them\n",
    "coef=model.coef_"
   ]
  },
  {
   "cell_type": "code",
   "execution_count": 23,
   "metadata": {},
   "outputs": [
    {
     "name": "stderr",
     "output_type": "stream",
     "text": [
      "C:\\Users\\Pilin\\Anaconda3\\envs\\base (root)\\lib\\site-packages\\ipykernel_launcher.py:1: UserWarning: In Matplotlib 3.3 individual lines on a stem plot will be added as a LineCollection instead of individual lines. This significantly improves the performance of a stem plot. To remove this warning and switch to the new behaviour, set the \"use_line_collection\" keyword argument to True.\n",
      "  \"\"\"Entry point for launching an IPython kernel.\n"
     ]
    },
    {
     "data": {
      "text/plain": [
       "<StemContainer object of 3 artists>"
      ]
     },
     "execution_count": 23,
     "metadata": {},
     "output_type": "execute_result"
    },
    {
     "data": {
      "image/png": "[encoded data removed]",
      "text/plain": [
       "<Figure size 432x288 with 1 Axes>"
      ]
     },
     "metadata": {
      "needs_background": "light"
     },
     "output_type": "display_data"
    }
   ],
   "source": [
    "plt.stem(coef) #all coef are selected. No regularization is being made. "
   ]
  },
  {
   "cell_type": "markdown",
   "metadata": {},
   "source": [
    "### try now with the other library"
   ]
  },
  {
   "cell_type": "code",
   "execution_count": 24,
   "metadata": {},
   "outputs": [
    {
     "name": "stdout",
     "output_type": "stream",
     "text": [
      "|   iter    |  target   |   alpha   | l1_ratio  |\n",
      "-------------------------------------------------\n",
      "| \u001b[95m 9       \u001b[0m | \u001b[95m 0.01394 \u001b[0m | \u001b[95m 0.07042 \u001b[0m | \u001b[95m 0.08635 \u001b[0m |\n",
      "| \u001b[95m 22      \u001b[0m | \u001b[95m 0.01882 \u001b[0m | \u001b[95m 0.00915 \u001b[0m | \u001b[95m 0.2547  \u001b[0m |\n",
      "=================================================\n"
     ]
    }
   ],
   "source": [
    "optimizer2=optimize_enet_bayesopt(x=X_,y=y_)"
   ]
  },
  {
   "cell_type": "code",
   "execution_count": 29,
   "metadata": {},
   "outputs": [
    {
     "data": {
      "text/plain": [
       "{'alpha': 0.009150215853983394, 'l1_ratio': 0.2547175349232684}"
      ]
     },
     "execution_count": 29,
     "metadata": {},
     "output_type": "execute_result"
    }
   ],
   "source": [
    "optimizer2['params'] #here we see they are different from \"no-regularization\""
   ]
  },
  {
   "cell_type": "code",
   "execution_count": 31,
   "metadata": {},
   "outputs": [
    {
     "name": "stderr",
     "output_type": "stream",
     "text": [
      "C:\\Users\\Pilin\\Anaconda3\\envs\\base (root)\\lib\\site-packages\\ipykernel_launcher.py:5: UserWarning: In Matplotlib 3.3 individual lines on a stem plot will be added as a LineCollection instead of individual lines. This significantly improves the performance of a stem plot. To remove this warning and switch to the new behaviour, set the \"use_line_collection\" keyword argument to True.\n",
      "  \"\"\"\n"
     ]
    },
    {
     "data": {
      "text/plain": [
       "<StemContainer object of 3 artists>"
      ]
     },
     "execution_count": 31,
     "metadata": {},
     "output_type": "execute_result"
    },
    {
     "data": {
      "image/png": "[encoded data removed]",
      "text/plain": [
       "<Figure size 432x288 with 1 Axes>"
      ]
     },
     "metadata": {
      "needs_background": "light"
     },
     "output_type": "display_data"
    }
   ],
   "source": [
    "model2=ElasticNet(alpha=optimizer2['params']['alpha'], l1_ratio=optimizer2['params']['l1_ratio'], max_iter=1000, normalize=False)\n",
    "model2.fit(X_, y_)\n",
    "#get coef\n",
    "coef2=model2.coef_\n",
    "plt.stem(coef2) #most of the coef are zero."
   ]
  },
  {
   "cell_type": "code",
   "execution_count": 36,
   "metadata": {},
   "outputs": [
    {
     "data": {
      "text/plain": [
       "0.03951294489641699"
      ]
     },
     "execution_count": 36,
     "metadata": {},
     "output_type": "execute_result"
    }
   ],
   "source": [
    "#does it change prediction?\n",
    "model.score(X_, y_)\n"
   ]
  },
  {
   "cell_type": "code",
   "execution_count": 37,
   "metadata": {},
   "outputs": [
    {
     "data": {
      "text/plain": [
       "0.042985552489691825"
      ]
     },
     "execution_count": 37,
     "metadata": {},
     "output_type": "execute_result"
    }
   ],
   "source": [
    "model2.score(X_, y_) #well in this example improves performance, but it is in training. but about in new unseen data?\n"
   ]
  },
  {
   "cell_type": "code",
   "execution_count": 45,
   "metadata": {},
   "outputs": [],
   "source": [
    "PATH_dat =\"C:\\\\Users\\Pilin\\Dropbox (Brain Modulation Lab)\\Shared Lab Folders\\CRCNS\\MOVEMENT DATA\\derivatives\\Int_old_grid\\sub_003_sess_right_run_5.p\"\n",
    "raw_ = np.load(PATH_dat, allow_pickle=True)\n",
    "Xte = raw_[\"rf_data_median\"][:,0,:] # ch 0 STN_RIGHT_0\n",
    "yte = raw_[\"label_baseline_corrected\"][0,:]\n",
    "Xte_, yte_ = append_time_dim(Xte, yte, time_stamps=5)"
   ]
  },
  {
   "cell_type": "code",
   "execution_count": 46,
   "metadata": {},
   "outputs": [
    {
     "data": {
      "text/plain": [
       "0.0354529266083361"
      ]
     },
     "execution_count": 46,
     "metadata": {},
     "output_type": "execute_result"
    }
   ],
   "source": [
    "model.score(Xte_, yte_) \n"
   ]
  },
  {
   "cell_type": "code",
   "execution_count": 49,
   "metadata": {},
   "outputs": [
    {
     "data": {
      "text/plain": [
       "0.031070978333373245"
      ]
     },
     "execution_count": 49,
     "metadata": {},
     "output_type": "execute_result"
    }
   ],
   "source": [
    "model2.score(Xte_, yte_) #here we see, the score in testing does not change very much \n",
    "#in fact, it may decrese (it is overfit, most probably for small training data) \n",
    "#but we have a more interpretable model by making feature selection. We see by the two stem plots that the\n",
    "#most relevant features are in the first ones. "
   ]
  },
  {
   "cell_type": "code",
   "execution_count": null,
   "metadata": {},
   "outputs": [],
   "source": []
  }
 ],
 "metadata": {
  "kernelspec": {
   "display_name": "Python 3",
   "language": "python",
   "name": "python3"
  },
  "language_info": {
   "codemirror_mode": {
    "name": "ipython",
    "version": 3
   },
   "file_extension": ".py",
   "mimetype": "text/x-python",
   "name": "python",
   "nbconvert_exporter": "python",
   "pygments_lexer": "ipython3",
   "version": "3.7.5"
  }
 },
 "nbformat": 4,
 "nbformat_minor": 2
}
