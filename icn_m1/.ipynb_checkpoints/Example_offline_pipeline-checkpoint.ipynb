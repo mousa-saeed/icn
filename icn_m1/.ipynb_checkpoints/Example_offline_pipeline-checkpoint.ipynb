{
 "cells": [
  {
   "cell_type": "markdown",
   "metadata": {},
   "source": [
    "# Example offline pipeline"
   ]
  },
  {
   "cell_type": "code",
   "execution_count": 1,
   "metadata": {},
   "outputs": [],
   "source": [
    "import filter\n",
    "import IO\n",
    "import projection\n",
    "import offline_analysis\n",
    "import rereference\n",
    "import numpy as np\n",
    "import json\n",
    "import os\n",
    "import pickle \n",
    "from matplotlib import pyplot as plt\n",
    "import mne\n",
    "mne.set_log_level(verbose='warning') #to avoid info at terminal"
   ]
  },
  {
   "cell_type": "markdown",
   "metadata": {},
   "source": [
    "### 1. The first thing that you have to do is to build your settings file\n"
   ]
  },
  {
   "cell_type": "code",
   "execution_count": 2,
   "metadata": {},
   "outputs": [],
   "source": [
    "settings = {}\n",
    "settings['BIDS_path'] = \"YOUR/ADDRESS\"\n",
    "settings['out_path'] = \"YOUR/ADDRESS\"\n",
    "settings['resamplingrate']=10\n",
    "settings['max_dist_cortex']=20\n",
    "settings['max_dist_subcortex']=5\n",
    "settings['normalization_time']=10\n",
    "settings['frequencyranges']=[[4, 8], [8, 12], [13, 20], [20, 35], [13, 35], [60, 80], [90, 200], [60, 200]]\n",
    "settings['seglengths']=[1, 2, 2, 3, 3, 3, 10, 10, 10]"
   ]
  },
  {
   "cell_type": "code",
   "execution_count": 3,
   "metadata": {},
   "outputs": [],
   "source": [
    "#useful for Windows OS users\n",
    "settings['BIDS_path']=settings['BIDS_path'].replace(\"\\\\\", \"/\")\n",
    "settings['out_path']=settings['out_path'].replace(\"\\\\\", \"/\")"
   ]
  },
  {
   "cell_type": "code",
   "execution_count": 4,
   "metadata": {},
   "outputs": [],
   "source": [
    "with open('settings/mysettings.json', 'w') as fp:\n",
    "    json.dump(settings, fp)"
   ]
  },
  {
   "cell_type": "code",
   "execution_count": 5,
   "metadata": {},
   "outputs": [],
   "source": [
    "settings = IO.read_settings('mysettings')"
   ]
  },
  {
   "cell_type": "markdown",
   "metadata": {},
   "source": [
    "### 2. write _channels_M1 file\n"
   ]
  },
  {
   "cell_type": "code",
   "execution_count": 6,
   "metadata": {},
   "outputs": [],
   "source": [
    "IO.write_all_M1_channel_files()"
   ]
  },
  {
   "cell_type": "markdown",
   "metadata": {},
   "source": [
    "### 3. read_grid_points"
   ]
  },
  {
   "cell_type": "code",
   "execution_count": 7,
   "metadata": {},
   "outputs": [],
   "source": [
    "cortex_left, cortex_right, subcortex_left, subcortex_right = IO.read_grid()\n",
    "grid_ = [cortex_left, subcortex_left, cortex_right, subcortex_right]"
   ]
  },
  {
   "cell_type": "markdown",
   "metadata": {},
   "source": [
    "### 4. read al vhdr_file.\n",
    "YOU CAN EITHER READ THEM FOR A particular subject:\n",
    "subject_path=\"address/where/subject/data/is/located\"\n",
    "subfolder=IO.get_subfolders(subject_path)\n",
    "vhdr_files=IO.get_files(subject_path, subfolder)\n",
    "OR read all vhdr files in a given BIDS PATH\n",
    "vhdr_files=IO.get_all_vhdr_files(settings['BIDS_path'])"
   ]
  },
  {
   "cell_type": "code",
   "execution_count": 9,
   "metadata": {},
   "outputs": [],
   "source": [
    "vhdr_files=IO.get_all_vhdr_files(settings['BIDS_path'])\n"
   ]
  },
  {
   "cell_type": "markdown",
   "metadata": {},
   "source": [
    "### for every vhdr_files do the following:"
   ]
  },
  {
   "cell_type": "code",
   "execution_count": 10,
   "metadata": {},
   "outputs": [],
   "source": [
    "vhdr_file=vhdr_files[0]"
   ]
  },
  {
   "cell_type": "markdown",
   "metadata": {},
   "source": [
    "### 5. Get general information"
   ]
  },
  {
   "cell_type": "code",
   "execution_count": 11,
   "metadata": {},
   "outputs": [],
   "source": [
    "#get info from vhdr_file\n",
    "subject, run, sess = IO.get_sess_run_subject(vhdr_file)"
   ]
  },
  {
   "cell_type": "code",
   "execution_count": 12,
   "metadata": {},
   "outputs": [],
   "source": [
    "#read sf\n",
    "sf=IO.read_run_sampling_frequency(vhdr_file)\n",
    "if len(sf.unique())==1: #all sf are equal\n",
    "    sf=int(sf[0])\n",
    "else: \n",
    "    Warning('Different sampling freq.')      \n"
   ]
  },
  {
   "cell_type": "code",
   "execution_count": 13,
   "metadata": {},
   "outputs": [],
   "source": [
    "#read data\n",
    "bv_raw, ch_names = IO.read_BIDS_file(vhdr_file)"
   ]
  },
  {
   "cell_type": "code",
   "execution_count": 14,
   "metadata": {},
   "outputs": [
    {
     "name": "stdout",
     "output_type": "stream",
     "text": [
      "True\n"
     ]
    }
   ],
   "source": [
    "#check session\n",
    "sess_right = IO.sess_right(sess)\n",
    "print(sess_right)"
   ]
  },
  {
   "cell_type": "code",
   "execution_count": 15,
   "metadata": {},
   "outputs": [
    {
     "name": "stdout",
     "output_type": "stream",
     "text": [
      "{'cortex': array([0, 1, 2, 3, 4, 5]), 'subcortex': None, 'labels': array([6, 7], dtype=int64)}\n"
     ]
    }
   ],
   "source": [
    "# read channels info\n",
    "used_channels = IO.read_M1_channel_specs(vhdr_file[:-9])\n",
    "print(used_channels)"
   ]
  },
  {
   "cell_type": "markdown",
   "metadata": {},
   "source": [
    "### 6. extract data"
   ]
  },
  {
   "cell_type": "code",
   "execution_count": 19,
   "metadata": {},
   "outputs": [],
   "source": [
    "# extract used channels/labels from brainvision file, split up in cortex/subcortex/labels\n",
    "#dat_ is a dict\n",
    "dat_ = IO.get_dat_cortex_subcortex(bv_raw, ch_names, used_channels)\n",
    "ind_cortex=dat_['ind_cortex']\n",
    "ind_subcortex=dat_['ind_subcortex']\n",
    "dat_ECOG=dat_['dat_cortex']\n",
    "dat_MOV=dat_['dat_label']\n",
    "dat_STN=dat_['dat_subcortex']"
   ]
  },
  {
   "cell_type": "markdown",
   "metadata": {},
   "source": [
    "### 7. Rereference data, is desired"
   ]
  },
  {
   "cell_type": "code",
   "execution_count": 21,
   "metadata": {},
   "outputs": [],
   "source": [
    "dat_ECOG_r, dat_STN_r =rereference.rereference(run_string=vhdr_file[:-9], data_cortex=dat_ECOG, data_subcortex=dat_STN)"
   ]
  },
  {
   "cell_type": "markdown",
   "metadata": {},
   "source": [
    "### 8. grid point projection calculation"
   ]
  },
  {
   "cell_type": "code",
   "execution_count": 22,
   "metadata": {},
   "outputs": [],
   "source": [
    "# # #read all used coordinates from session coordinates.tsv BIDS file\n",
    "coord_patient = IO.get_patient_coordinates(ch_names, ind_cortex, ind_subcortex, vhdr_file, settings['BIDS_path'])\n",
    "# # # given those coordinates and the provided grid, estimate the projection matrix\n",
    "proj_matrix_run = projection.calc_projection_matrix(coord_patient, grid_, sess_right, settings['max_dist_cortex'], settings['max_dist_subcortex'])\n",
    "# #They show the relative weights of every channel for every gridpoint\n",
    "# #if Empty, then that grid is not used\n",
    "# # # this function tells you which points are actually active after the projection\n",
    "arr_act_grid_points = IO.get_active_grid_points(sess_right, used_channels['labels'], ch_names, proj_matrix_run, grid_)"
   ]
  },
  {
   "cell_type": "markdown",
   "metadata": {},
   "source": [
    "### 9. Feature extraction"
   ]
  },
  {
   "cell_type": "code",
   "execution_count": 27,
   "metadata": {},
   "outputs": [],
   "source": [
    "seglengths = settings['seglengths']\n",
    "        \n",
    "# read line noise from participants.tsv\n",
    "line_noise = IO.read_line_noise(settings['BIDS_path'],subject)\n",
    "# get the lenght of the recording signals\n",
    "recording_time = bv_raw.shape[1] \n",
    "\n",
    "#resample\n",
    "normalization_samples = settings['normalization_time']*settings['resamplingrate']\n",
    "new_num_data_points = int((bv_raw.shape[1]/sf)*settings['resamplingrate'])\n",
    "\n",
    "# downsample_idx states the original brainvision sample indexes are used\n",
    "downsample_idx = (np.arange(0,new_num_data_points,1)*sf/settings['resamplingrate']).astype(int)\n",
    "\n",
    "# get filter coef\n",
    "filter_fun = filter.calc_band_filters(settings['frequencyranges'], sample_rate=sf)\n",
    "\n",
    "offset_start = int(seglengths[0] / (sf/settings['resamplingrate'])) \n",
    "\n",
    "rf_data_median, pf_data_median = offline_analysis.run(sf, settings['resamplingrate'], np.asarray(seglengths), settings['frequencyranges'], grid_, downsample_idx, bv_raw, line_noise, \\\n",
    "              sess_right, dat_, filter_fun, proj_matrix_run, arr_act_grid_points, new_num_data_points, ch_names, normalization_samples)"
   ]
  },
  {
   "cell_type": "markdown",
   "metadata": {},
   "source": [
    "### 10. Label data"
   ]
  },
  {
   "cell_type": "code",
   "execution_count": 29,
   "metadata": {},
   "outputs": [
    {
     "name": "stdout",
     "output_type": "stream",
     "text": [
      ">>Signal decimation is being done\n",
      ">>baseline_als is being used\n",
      ">>Signal decimation is being done\n",
      ">>baseline_als is being used\n"
     ]
    }
   ],
   "source": [
    "# # #psi or contralateral movement\n",
    "label_channels = np.array(ch_names)[used_channels['labels']]\n",
    "con_true = np.empty(len(label_channels), dtype=object)\n",
    "y=np.empty((len(label_channels),new_num_data_points), dtype=object)\n",
    "\n",
    "for m in range(len(label_channels)):\n",
    "    #right session\n",
    "    if sess_right is True:\n",
    "        if 'RIGHT' in label_channels[m]:\n",
    "            mov_ips=dat_MOV[m]\n",
    "            con_true[m]=False\n",
    "        else:\n",
    "            mov_con=dat_MOV[m]\n",
    "            con_true[m]=True\n",
    "\n",
    "            #left session        \n",
    "    else:\n",
    "        if 'RIGHT' in label_channels[m]:\n",
    "            mov_con=dat_MOV[m]\n",
    "            con_true[m]=True\n",
    "\n",
    "        else:\n",
    "            mov_ips=dat_MOV[m]\n",
    "            con_true[m]=False\n",
    "\n",
    "   \n",
    "                   \n",
    "    target_channel_corrected, onoff, raw_target_channel=offline_analysis.baseline_correction(y=dat_MOV[m], Decimate=40,method='baseline_als', param=[1e2, 1e-3], thr=1e-1, normalize=True)\n",
    "    events=offline_analysis.create_events_array(onoff=onoff, raw_target_channel=dat_MOV[m], sf=sf)\n",
    "\n",
    "    y[m]=offline_analysis.generate_continous_label_array(L=new_num_data_points, sf=10, events=events)          \n",
    "\n",
    "    "
   ]
  },
  {
   "cell_type": "code",
   "execution_count": 30,
   "metadata": {},
   "outputs": [
    {
     "data": {
      "text/plain": [
       "[<matplotlib.lines.Line2D at 0x21fb0d35808>]"
      ]
     },
     "execution_count": 30,
     "metadata": {},
     "output_type": "execute_result"
    },
    {
     "data": {
      "image/png": "[encoded data removed]",
      "text/plain": [
       "<Figure size 432x288 with 1 Axes>"
      ]
     },
     "metadata": {
      "needs_background": "light"
     },
     "output_type": "display_data"
    }
   ],
   "source": [
    "#plot baseline-correction\n",
    "plt.plot(target_channel_corrected[0:500])\n",
    "plt.plot(onoff[0:500])"
   ]
  },
  {
   "cell_type": "code",
   "execution_count": 35,
   "metadata": {},
   "outputs": [
    {
     "data": {
      "text/plain": [
       "[<matplotlib.lines.Line2D at 0x21fbbf8ff88>]"
      ]
     },
     "execution_count": 35,
     "metadata": {},
     "output_type": "execute_result"
    },
    {
     "data": {
      "image/png": "[encoded data removed]",
      "text/plain": [
       "<Figure size 432x288 with 1 Axes>"
      ]
     },
     "metadata": {
      "needs_background": "light"
     },
     "output_type": "display_data"
    }
   ],
   "source": [
    "#plot continuos label vector\n",
    "plt.plot(y[0][:500])\n",
    "plt.plot(y[1][:500])\n"
   ]
  },
  {
   "cell_type": "markdown",
   "metadata": {},
   "source": [
    "### 11. Save for run info"
   ]
  }
 ],
 "metadata": {
  "kernelspec": {
   "display_name": "Python 3",
   "language": "python",
   "name": "python3"
  },
  "language_info": {
   "codemirror_mode": {
    "name": "ipython",
    "version": 3
   },
   "file_extension": ".py",
   "mimetype": "text/x-python",
   "name": "python",
   "nbconvert_exporter": "python",
   "pygments_lexer": "ipython3",
   "version": "3.7.5"
  }
 },
 "nbformat": 4,
 "nbformat_minor": 2
}
