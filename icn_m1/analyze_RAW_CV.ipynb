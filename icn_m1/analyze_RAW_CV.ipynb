{
 "cells": [
  {
   "cell_type": "code",
   "execution_count": 6,
   "metadata": {},
   "outputs": [],
   "source": [
    "import os\n",
    "import numpy as np \n",
    "import pandas as pd\n",
    "from scipy import stats, signal, io\n",
    "import mne\n",
    "from bids import BIDSLayout\n",
    "import mne_bids\n",
    "#import settings\n",
    "import json\n",
    "#from coordinates_io import BIDS_coord\n",
    "from sklearn import linear_model\n",
    "import multiprocessing\n",
    "from sklearn.model_selection import cross_val_score\n",
    "from matplotlib import pyplot as plt"
   ]
  },
  {
   "cell_type": "code",
   "execution_count": 3,
   "metadata": {},
   "outputs": [],
   "source": [
    "out_path = '/home/icn/Documents/raw_out/raw_combined/'\n",
    "out_path = 'sub_010_patient_concat.json'"
   ]
  },
  {
   "cell_type": "code",
   "execution_count": null,
   "metadata": {},
   "outputs": [],
   "source": [
    "subject_id = '010'"
   ]
  },
  {
   "cell_type": "code",
   "execution_count": 7,
   "metadata": {},
   "outputs": [],
   "source": [
    "with open('sub_010_patient_concat.json', 'r') as fp:\n",
    "    dict_ch = json.load(fp)"
   ]
  },
  {
   "cell_type": "code",
   "execution_count": 8,
   "metadata": {},
   "outputs": [
    {
     "data": {
      "text/plain": [
       "dict_keys(['ECOG_RIGHT_0', 'ECOG_RIGHT_1', 'ECOG_RIGHT_2', 'ECOG_RIGHT_3', 'ECOG_RIGHT_4', 'ECOG_RIGHT_5', 'STN_RIGHT_0', 'STN_RIGHT_1', 'STN_RIGHT_2', 'STN_RIGHT_3', 'ECOG_LEFT_0', 'ECOG_LEFT_1', 'ECOG_LEFT_2', 'ECOG_LEFT_3', 'ECOG_LEFT_4', 'ECOG_LEFT_5', 'STN_LEFT_0', 'STN_LEFT_1', 'STN_LEFT_2', 'STN_LEFT_3'])"
      ]
     },
     "execution_count": 8,
     "metadata": {},
     "output_type": "execute_result"
    }
   ],
   "source": [
    "dict_ch.keys()"
   ]
  },
  {
   "cell_type": "code",
   "execution_count": 15,
   "metadata": {},
   "outputs": [
    {
     "data": {
      "text/plain": [
       "dict_keys(['data', 'true_movements', 'mov_ch', 'choords', 'res_MOV_RIGHT', 'res_MOV_LEFT'])"
      ]
     },
     "execution_count": 15,
     "metadata": {},
     "output_type": "execute_result"
    }
   ],
   "source": [
    "dict_ch[list(dict_ch.keys())[0]].keys()"
   ]
  },
  {
   "cell_type": "code",
   "execution_count": 17,
   "metadata": {},
   "outputs": [],
   "source": []
  },
  {
   "cell_type": "code",
   "execution_count": 22,
   "metadata": {},
   "outputs": [],
   "source": [
    "movements_channel =  [mov for mov in list(dict_ch[channels[0]].keys()) if mov.startswith('res_MOV')]"
   ]
  },
  {
   "cell_type": "code",
   "execution_count": 23,
   "metadata": {},
   "outputs": [
    {
     "data": {
      "text/plain": [
       "['res_MOV_RIGHT', 'res_MOV_LEFT']"
      ]
     },
     "execution_count": 23,
     "metadata": {},
     "output_type": "execute_result"
    }
   ],
   "source": [
    "movements_channel"
   ]
  },
  {
   "cell_type": "code",
   "execution_count": 25,
   "metadata": {},
   "outputs": [
    {
     "data": {
      "text/plain": [
       "0.14347507915946361"
      ]
     },
     "execution_count": 25,
     "metadata": {},
     "output_type": "execute_result"
    }
   ],
   "source": [
    "dict_ch[channels[0]][movements_channel[0]][\"R2\"]"
   ]
  },
  {
   "cell_type": "code",
   "execution_count": 26,
   "metadata": {},
   "outputs": [
    {
     "data": {
      "text/plain": [
       "{'R2': 0.14347507915946361,\n",
       " 'weight_MOV_RIGHT': [-0.11921310360874146,\n",
       "  -0.20942463787194535,\n",
       "  -0.3025098198201777,\n",
       "  -0.056103066432295866,\n",
       "  -0.0657996399720697,\n",
       "  0.3126802886699624,\n",
       "  -0.19175371805518734,\n",
       "  -0.6001575452538882]}"
      ]
     },
     "execution_count": 26,
     "metadata": {},
     "output_type": "execute_result"
    }
   ],
   "source": [
    "dict_ch[channels[0]][movements_channel[0]]"
   ]
  },
  {
   "cell_type": "code",
   "execution_count": 17,
   "metadata": {},
   "outputs": [
    {
     "ename": "NameError",
     "evalue": "name 'channels' is not defined",
     "output_type": "error",
     "traceback": [
      "\u001b[0;31m---------------------------------------------------------------------------\u001b[0m",
      "\u001b[0;31mNameError\u001b[0m                                 Traceback (most recent call last)",
      "\u001b[0;32m<ipython-input-17-85012819277f>\u001b[0m in \u001b[0;36m<module>\u001b[0;34m\u001b[0m\n\u001b[0;32m----> 1\u001b[0;31m \u001b[0mdict_ch\u001b[0m\u001b[0;34m[\u001b[0m\u001b[0mchannels\u001b[0m\u001b[0;34m[\u001b[0m\u001b[0;36m0\u001b[0m\u001b[0;34m]\u001b[0m\u001b[0;34m]\u001b[0m\u001b[0;34m[\u001b[0m\u001b[0;34m\"choords\"\u001b[0m\u001b[0;34m]\u001b[0m\u001b[0;34m[\u001b[0m\u001b[0;36m0\u001b[0m\u001b[0;34m]\u001b[0m\u001b[0;34m\u001b[0m\u001b[0;34m\u001b[0m\u001b[0m\n\u001b[0m",
      "\u001b[0;31mNameError\u001b[0m: name 'channels' is not defined"
     ]
    }
   ],
   "source": [
    "dict_ch[channels[0]][\"choords\"][0]"
   ]
  },
  {
   "cell_type": "code",
   "execution_count": 31,
   "metadata": {},
   "outputs": [],
   "source": [
    "#plot: run through all channels per Patient and plot the res vals +\n",
    "# if STN is True: \n",
    "ind_ECOG = [ch_idx for ch_idx,ch in enumerate(list(dict_ch.keys())) if ch.startswith(\"ECOG\")]"
   ]
  },
  {
   "cell_type": "code",
   "execution_count": 32,
   "metadata": {},
   "outputs": [
    {
     "data": {
      "text/plain": [
       "[0, 1, 2, 3, 4, 5]"
      ]
     },
     "execution_count": 32,
     "metadata": {},
     "output_type": "execute_result"
    }
   ],
   "source": [
    "ind_ECOG"
   ]
  },
  {
   "cell_type": "code",
   "execution_count": 10,
   "metadata": {},
   "outputs": [],
   "source": [
    "# setup plot where STN and ECOG is visible \n",
    "faces = io.loadmat('faces.mat')\n",
    "Vertices = io.loadmat('Vertices.mat')\n",
    "grid = io.loadmat('grid.mat')['grid']\n",
    "stn_surf = io.loadmat('STN_surf.mat')"
   ]
  },
  {
   "cell_type": "code",
   "execution_count": null,
   "metadata": {},
   "outputs": [],
   "source": [
    "def plot_STN_with_grid(x_grid, y_grid, coords_x, coords_y, val, clim_low, clim_high):\n",
    "    plt.scatter(x_grid, y_grid, c='gray', s=0.25, alpha='0.5')\n",
    "    plt.axis('off')\n",
    "    plt.scatter(coords_x, coords_y, c = val, s = 30, alpha=1)\n",
    "    cbar = plt.colorbar()\n",
    "    plt.clim(clim_low, clim_high)\n",
    "    cbar.remove()\n",
    "    plt.axis('equal')"
   ]
  },
  {
   "cell_type": "code",
   "execution_count": null,
   "metadata": {},
   "outputs": [],
   "source": []
  },
  {
   "cell_type": "code",
   "execution_count": 8,
   "metadata": {},
   "outputs": [],
   "source": [
    "x_ = stn_surf['vertices'][::2,0]\n",
    "y_ = stn_surf['vertices'][::2,1]"
   ]
  },
  {
   "cell_type": "code",
   "execution_count": 199,
   "metadata": {},
   "outputs": [],
   "source": [
    "def get_movement_idx(ch, mov_channels, Contra=True):\n",
    "    mov_idx = 0\n",
    "    if len(mov_channels) > 1:    \n",
    "        if Contra is True:\n",
    "            if (\"RIGHT\" in ch and \"LEFT\" in mov_channels[0]) or \\\n",
    "                (\"LEFT\" in ch and \"RIGHT\" in mov_channels[0]):\n",
    "                mov_idx = 0\n",
    "            if (\"RIGHT\" in ch and \"LEFT\" in mov_channels[1]) or \\\n",
    "                (\"LEFT\" in ch and \"RIGHT\" in mov_channels[1]):\n",
    "                mov_idx = 1\n",
    "        else:\n",
    "            if (\"RIGHT\" in ch and \"RIGHT\" in mov_channels[0]) or \\\n",
    "                (\"LEFT\" in ch and \"LEFT\" in mov_channels[0]):\n",
    "                mov_idx = 0\n",
    "            if (\"RIGHT\" in ch and \"RIGHT\" in mov_channels[1]) or \\\n",
    "                (\"LEFT\" in ch and \"LEFT\" in mov_channels[1]):\n",
    "                mov_idx = 1\n",
    "    return mov_idx"
   ]
  },
  {
   "cell_type": "code",
   "execution_count": 200,
   "metadata": {},
   "outputs": [],
   "source": [
    "def get_x_y_c(dict_ch, ind_, Contra=True):\n",
    "    x_choord = np.zeros(len(ind_))\n",
    "    y_choord = np.zeros(len(ind_))\n",
    "    c_ = np.zeros(len(ind_))\n",
    "    for idx, ind_ch in enumerate(ind_): \n",
    "        choord = np.squeeze(np.array(dict_ch[channels[ind_ch]][\"choords\"]))\n",
    "        x_choord[idx] = choord[0]\n",
    "        y_choord[idx] = choord[1]\n",
    "        \n",
    "        #wähle den contralateralen channel aus\n",
    "        mov_channels = dict_ch[channels[ind_ch]]['mov_ch']\n",
    "        \n",
    "        mov_idx = get_movement_idx(channels[ind_ch], mov_channels, Contra)\n",
    "        \n",
    "        c_[idx] = dict_ch[channels[ind_ch]][\"res_\"+mov_channels[mov_idx]][\"R2\"]\n",
    "    return x_choord, y_choord, c_"
   ]
  },
  {
   "cell_type": "code",
   "execution_count": 36,
   "metadata": {},
   "outputs": [],
   "source": [
    "channels = list(dict_ch.keys())\n",
    "ind_ECOG = [ch_idx for ch_idx,ch in enumerate(list(dict_ch.keys())) if ch.startswith(\"ECOG\")]\n",
    "ind_STN = [ch_idx for ch_idx,ch in enumerate(list(dict_ch.keys())) if ch.startswith(\"STN\")]"
   ]
  },
  {
   "cell_type": "code",
   "execution_count": 38,
   "metadata": {},
   "outputs": [],
   "source": [
    "x,y,c = get_x_y_c(dict_ch, ind_STN)"
   ]
  },
  {
   "cell_type": "code",
   "execution_count": 88,
   "metadata": {},
   "outputs": [],
   "source": []
  },
  {
   "cell_type": "code",
   "execution_count": 91,
   "metadata": {},
   "outputs": [],
   "source": [
    "x_ecog = Vertices['Vertices'][::4,0]\n",
    "y_ecog = Vertices['Vertices'][::4,1]\n",
    "x_stn = stn_surf['vertices'][::2,0]\n",
    "y_stn = stn_surf['vertices'][::2,1]"
   ]
  },
  {
   "cell_type": "code",
   "execution_count": 161,
   "metadata": {},
   "outputs": [],
   "source": [
    "subject_id = []\n",
    "for patient_test in range(17):\n",
    "    if patient_test < 10:\n",
    "        subject_id.append(str('00') + str(patient_test))\n",
    "    else:\n",
    "        subject_id.append(str('0') + str(patient_test))\n"
   ]
  },
  {
   "cell_type": "code",
   "execution_count": 164,
   "metadata": {},
   "outputs": [
    {
     "name": "stdout",
     "output_type": "stream",
     "text": [
      "0\n",
      "4\n",
      "8\n",
      "12\n"
     ]
    }
   ],
   "source": [
    "for idx in range(16):\n",
    "    if idx%4 == 0:\n",
    "        print(idx)"
   ]
  },
  {
   "cell_type": "code",
   "execution_count": 170,
   "metadata": {},
   "outputs": [
    {
     "ename": "FileNotFoundError",
     "evalue": "[Errno 2] No such file or directory: 'sub_0_patient_concat.json'",
     "output_type": "error",
     "traceback": [
      "\u001b[0;31m---------------------------------------------------------------------------\u001b[0m",
      "\u001b[0;31mFileNotFoundError\u001b[0m                         Traceback (most recent call last)",
      "\u001b[0;32m<ipython-input-170-923c2fa4d3a8>\u001b[0m in \u001b[0;36m<module>\u001b[0;34m\u001b[0m\n\u001b[1;32m      4\u001b[0m \u001b[0;32mfor\u001b[0m \u001b[0msub_idx\u001b[0m\u001b[0;34m,\u001b[0m \u001b[0msubject_id_\u001b[0m \u001b[0;32min\u001b[0m \u001b[0menumerate\u001b[0m\u001b[0;34m(\u001b[0m\u001b[0msubject_id\u001b[0m\u001b[0;34m[\u001b[0m\u001b[0;34m-\u001b[0m\u001b[0;36m1\u001b[0m\u001b[0;34m]\u001b[0m\u001b[0;34m)\u001b[0m\u001b[0;34m:\u001b[0m\u001b[0;34m\u001b[0m\u001b[0;34m\u001b[0m\u001b[0m\n\u001b[1;32m      5\u001b[0m \u001b[0;34m\u001b[0m\u001b[0m\n\u001b[0;32m----> 6\u001b[0;31m     \u001b[0;32mwith\u001b[0m \u001b[0mopen\u001b[0m\u001b[0;34m(\u001b[0m\u001b[0;34m'sub_'\u001b[0m\u001b[0;34m+\u001b[0m\u001b[0msubject_id_\u001b[0m\u001b[0;34m+\u001b[0m\u001b[0;34m'_patient_concat.json'\u001b[0m\u001b[0;34m,\u001b[0m \u001b[0;34m'r'\u001b[0m\u001b[0;34m)\u001b[0m \u001b[0;32mas\u001b[0m \u001b[0mfp\u001b[0m\u001b[0;34m:\u001b[0m\u001b[0;34m\u001b[0m\u001b[0;34m\u001b[0m\u001b[0m\n\u001b[0m\u001b[1;32m      7\u001b[0m         \u001b[0mdict_ch\u001b[0m \u001b[0;34m=\u001b[0m \u001b[0mjson\u001b[0m\u001b[0;34m.\u001b[0m\u001b[0mload\u001b[0m\u001b[0;34m(\u001b[0m\u001b[0mfp\u001b[0m\u001b[0;34m)\u001b[0m\u001b[0;34m\u001b[0m\u001b[0;34m\u001b[0m\u001b[0m\n\u001b[1;32m      8\u001b[0m     \u001b[0mchannels\u001b[0m \u001b[0;34m=\u001b[0m \u001b[0mlist\u001b[0m\u001b[0;34m(\u001b[0m\u001b[0mdict_ch\u001b[0m\u001b[0;34m.\u001b[0m\u001b[0mkeys\u001b[0m\u001b[0;34m(\u001b[0m\u001b[0;34m)\u001b[0m\u001b[0;34m)\u001b[0m\u001b[0;34m\u001b[0m\u001b[0;34m\u001b[0m\u001b[0m\n",
      "\u001b[0;31mFileNotFoundError\u001b[0m: [Errno 2] No such file or directory: 'sub_0_patient_concat.json'"
     ]
    },
    {
     "data": {
      "image/png": "[encoded data removed]",
      "text/plain": [
       "<Figure size 1080x1080 with 32 Axes>"
      ]
     },
     "metadata": {},
     "output_type": "display_data"
    }
   ],
   "source": [
    "fig, axes = plt.subplots(8,4, facecolor=(0,0,0), gridspec_kw={'height_ratios': [3,1,3,1,3,1,3,1]}, figsize=(15,15))\n",
    "x__ = 0\n",
    "y__ = 0\n",
    "for sub_idx, subject_id_ in enumerate(subject_id[-1]):\n",
    "    \n",
    "    with open('sub_'+subject_id_+'_patient_concat.json', 'r') as fp:\n",
    "        dict_ch = json.load(fp)\n",
    "    channels = list(dict_ch.keys())\n",
    "    ind_ECOG = [ch_idx for ch_idx,ch in enumerate(list(dict_ch.keys())) if ch.startswith(\"ECOG\")]\n",
    "    ind_STN = [ch_idx for ch_idx,ch in enumerate(list(dict_ch.keys())) if ch.startswith(\"STN\")]\n",
    "\n",
    "\n",
    "    axes[x__, y__].scatter(x_ecog, y_ecog, c=\"gray\", s=0.25)\n",
    "    axes[x__, y__].set_title('sub000'+str('\\n con.             ips.'), color='white')\n",
    "    x,y,c = get_x_y_c(dict_ch, ind_ECOG)\n",
    "    axes[x__, y__].scatter(x, y, c=c, s=50)\n",
    "    #ax.axes.set_axis_off()\n",
    "    axes[x__, y__].axes.set_aspect('equal')\n",
    "    axes[x__, y__].set_facecolor((0,0,0))\n",
    "\n",
    "    axes[x__, y__+1].scatter(x_stn, y_stn, c=\"gray\", s=0.25)\n",
    "    x,y,c = get_x_y_c(dict_ch, ind_STN)\n",
    "    axes[x__, y__+1].scatter(x, y, c=c, s=50)\n",
    "    #ax1.axes.set_axis_off()\n",
    "    axes[x__, y__+1].axes.set_aspect('equal')\n",
    "    axes[x__, y__+1].set_facecolor((0,0,0))\n",
    "    #plt.tight_layout()\n",
    "    \n",
    "    if idx%4 == 0:\n",
    "        y__ += 2\n",
    "        \n",
    "    if x__ == 4:\n",
    "        x__ = 0\n",
    "    else:\n",
    "        x__ +=1"
   ]
  },
  {
   "cell_type": "code",
   "execution_count": 193,
   "metadata": {},
   "outputs": [],
   "source": [
    "### look at weights \n",
    "mov_channels = dict_ch[channels[0]][\"mov_ch\"]"
   ]
  },
  {
   "cell_type": "code",
   "execution_count": 192,
   "metadata": {},
   "outputs": [
    {
     "data": {
      "text/plain": [
       "['MOV_RIGHT', 'MOV_LEFT']"
      ]
     },
     "execution_count": 192,
     "metadata": {},
     "output_type": "execute_result"
    }
   ],
   "source": [
    "mov_channels"
   ]
  },
  {
   "cell_type": "code",
   "execution_count": 194,
   "metadata": {
    "scrolled": true
   },
   "outputs": [
    {
     "data": {
      "text/plain": [
       "[0.1440842071067892,\n",
       " 0.13794501376621138,\n",
       " -0.45103167084482026,\n",
       " -0.3756353088378953,\n",
       " 1.2459724654871827,\n",
       " 0.1117129016165456,\n",
       " -0.13039294258762804,\n",
       " 0.09910339302633278]"
      ]
     },
     "execution_count": 194,
     "metadata": {},
     "output_type": "execute_result"
    }
   ],
   "source": [
    "dict_ch[channels[0]]['res_'+mov_channels[0]]['weight_'+mov_channels[0]]"
   ]
  },
  {
   "cell_type": "code",
   "execution_count": 236,
   "metadata": {},
   "outputs": [],
   "source": [
    "def get_best(dict_ch, Con=True):\n",
    "    channels = list(dict_ch.keys())\n",
    "    acc_ = np.zeros(len(channels))\n",
    "    mov_idx_ = np.zeros(len(channels))\n",
    "    for ch_idx, ch  in enumerate(channels):\n",
    "        mov_channels = dict_ch[channels[ch_idx]][\"mov_ch\"]\n",
    "        mov_idx = get_movement_idx(channels[ch_idx], mov_channels, Con)\n",
    "        acc_[ch_idx] = dict_ch[channels[ch_idx]]['res_'+mov_channels[mov_idx]]['R2']\n",
    "        mov_idx_[ch_idx] = mov_idx\n",
    "    best_ch_idx = np.argmax(acc_)\n",
    "    mov_idx_best = int(mov_idx_[best_ch_idx])\n",
    "    return channels[best_ch_idx], np.max(acc_), dict_ch[channels[best_ch_idx]]['res_'+mov_channels[mov_idx_best]]['weight_'+mov_channels[mov_idx_best]]\n"
   ]
  },
  {
   "cell_type": "code",
   "execution_count": 237,
   "metadata": {},
   "outputs": [
    {
     "data": {
      "text/plain": [
       "('ECOG_RIGHT_0',\n",
       " 0.22039446787762634,\n",
       " [0.1440842071067892,\n",
       "  0.13794501376621138,\n",
       "  -0.45103167084482026,\n",
       "  -0.3756353088378953,\n",
       "  1.2459724654871827,\n",
       "  0.1117129016165456,\n",
       "  -0.13039294258762804,\n",
       "  0.09910339302633278])"
      ]
     },
     "execution_count": 237,
     "metadata": {},
     "output_type": "execute_result"
    }
   ],
   "source": [
    "get_best(dict_ch, True)"
   ]
  },
  {
   "cell_type": "code",
   "execution_count": 238,
   "metadata": {},
   "outputs": [
    {
     "data": {
      "text/plain": [
       "('ECOG_RIGHT_1',\n",
       " 0.0573807655258012,\n",
       " [0.09365186623139299,\n",
       "  0.26721451183031053,\n",
       "  -0.4128609888028242,\n",
       "  -0.17585545163926858,\n",
       "  0.9772880005045211,\n",
       "  -0.2114223454590725,\n",
       "  -0.6401562064939121,\n",
       "  0.48868495681354174])"
      ]
     },
     "execution_count": 238,
     "metadata": {},
     "output_type": "execute_result"
    }
   ],
   "source": [
    "get_best(dict_ch, False)"
   ]
  },
  {
   "cell_type": "code",
   "execution_count": 244,
   "metadata": {
    "scrolled": true
   },
   "outputs": [],
   "source": [
    "X = np.array(dict_ch[channels[0]]['data'])\n",
    "y = np.array(dict_ch[channels[0]]['true_movements'])"
   ]
  },
  {
   "cell_type": "code",
   "execution_count": 253,
   "metadata": {},
   "outputs": [],
   "source": [
    "def append_time_dim(arr, y_, time_stamps):\n",
    "    \"\"\"\n",
    "    apply added time dimension for the data array and label given time_stamps (with downsample_rate=100) in 100ms / need to check with 1375Hz\n",
    "    \"\"\"\n",
    "    time_arr = np.zeros([arr.shape[0]-time_stamps, int(time_stamps*arr.shape[1])])\n",
    "    for time_idx, time_ in enumerate(np.arange(time_stamps, arr.shape[0])):\n",
    "        for time_point in range(time_stamps):\n",
    "            time_arr[time_idx, time_point*arr.shape[1]:(time_point+1)*arr.shape[1]] = arr[time_-time_point,:]\n",
    "    return time_arr, y_[time_stamps:]"
   ]
  },
  {
   "cell_type": "code",
   "execution_count": 254,
   "metadata": {},
   "outputs": [],
   "source": [
    "y_ = y[0,:]"
   ]
  },
  {
   "cell_type": "code",
   "execution_count": 261,
   "metadata": {},
   "outputs": [],
   "source": [
    "X_t, y_t = append_time_dim(X.T, y_, 5)"
   ]
  },
  {
   "cell_type": "code",
   "execution_count": 262,
   "metadata": {},
   "outputs": [
    {
     "data": {
      "text/plain": [
       "(6815, 40)"
      ]
     },
     "execution_count": 262,
     "metadata": {},
     "output_type": "execute_result"
    }
   ],
   "source": [
    "X_t.shape"
   ]
  },
  {
   "cell_type": "code",
   "execution_count": 263,
   "metadata": {},
   "outputs": [
    {
     "data": {
      "text/plain": [
       "(6815,)"
      ]
     },
     "execution_count": 263,
     "metadata": {},
     "output_type": "execute_result"
    }
   ],
   "source": [
    "y_t.shape"
   ]
  },
  {
   "cell_type": "code",
   "execution_count": 266,
   "metadata": {
    "scrolled": true
   },
   "outputs": [
    {
     "data": {
      "text/plain": [
       "0.0063934402813581315"
      ]
     },
     "execution_count": 266,
     "metadata": {},
     "output_type": "execute_result"
    }
   ],
   "source": [
    "np.mean(cross_val_score(linear_model.LinearRegression(), X_t, y_t, scoring='r2', cv=2))"
   ]
  },
  {
   "cell_type": "code",
   "execution_count": 269,
   "metadata": {},
   "outputs": [
    {
     "data": {
      "text/plain": [
       "<zip at 0x1c34ee79b0>"
      ]
     },
     "execution_count": 269,
     "metadata": {},
     "output_type": "execute_result"
    }
   ],
   "source": [
    "zip(subject_id, np.arange(1,11,1))"
   ]
  },
  {
   "cell_type": "code",
   "execution_count": null,
   "metadata": {},
   "outputs": [],
   "source": []
  },
  {
   "cell_type": "code",
   "execution_count": 225,
   "metadata": {},
   "outputs": [
    {
     "data": {
      "text/plain": [
       "('ECOG_RIGHT_0',\n",
       " 0.22039446787762634,\n",
       " [0.026130282795722926,\n",
       "  0.018408146066065362,\n",
       "  -0.028197489651129302,\n",
       "  -0.8852913040447522,\n",
       "  0.6050858983299229,\n",
       "  0.03118624490991029,\n",
       "  -1.2281498866742444,\n",
       "  1.896410869854776])"
      ]
     },
     "execution_count": 225,
     "metadata": {},
     "output_type": "execute_result"
    }
   ],
   "source": [
    "get_best(dict_ch, True)"
   ]
  },
  {
   "cell_type": "code",
   "execution_count": 226,
   "metadata": {},
   "outputs": [
    {
     "data": {
      "text/plain": [
       "('ECOG_RIGHT_1',\n",
       " 0.0573807655258012,\n",
       " [0.026130282795722926,\n",
       "  0.018408146066065362,\n",
       "  -0.028197489651129302,\n",
       "  -0.8852913040447522,\n",
       "  0.6050858983299229,\n",
       "  0.03118624490991029,\n",
       "  -1.2281498866742444,\n",
       "  1.896410869854776])"
      ]
     },
     "execution_count": 226,
     "metadata": {},
     "output_type": "execute_result"
    }
   ],
   "source": [
    "get_best(dict_ch, False)"
   ]
  },
  {
   "cell_type": "code",
   "execution_count": 187,
   "metadata": {},
   "outputs": [
    {
     "data": {
      "text/plain": [
       "0.03278837626564261"
      ]
     },
     "execution_count": 187,
     "metadata": {},
     "output_type": "execute_result"
    }
   ],
   "source": [
    "# für den Plot wird es wichrtig sein ALLE performances rauszusuchen \n",
    "# und v.. den besten contra -und ipsilaterealen Kanal\n",
    "dict_ch[channels[0]]['res_'+movs[0]]['R2']"
   ]
  },
  {
   "cell_type": "code",
   "execution_count": 203,
   "metadata": {},
   "outputs": [],
   "source": [
    "ch_idx=0"
   ]
  },
  {
   "cell_type": "code",
   "execution_count": 204,
   "metadata": {},
   "outputs": [
    {
     "data": {
      "text/plain": [
       "'ECOG_RIGHT_0'"
      ]
     },
     "execution_count": 204,
     "metadata": {},
     "output_type": "execute_result"
    }
   ],
   "source": [
    "channels[ch_idx]"
   ]
  },
  {
   "cell_type": "code",
   "execution_count": null,
   "metadata": {},
   "outputs": [],
   "source": [
    "\n"
   ]
  },
  {
   "cell_type": "code",
   "execution_count": 198,
   "metadata": {},
   "outputs": [
    {
     "data": {
      "text/plain": [
       "1"
      ]
     },
     "execution_count": 198,
     "metadata": {},
     "output_type": "execute_result"
    }
   ],
   "source": [
    "mov_idx"
   ]
  },
  {
   "cell_type": "code",
   "execution_count": null,
   "metadata": {},
   "outputs": [],
   "source": []
  }
 ],
 "metadata": {
  "kernelspec": {
   "display_name": "Python 3",
   "language": "python",
   "name": "python3"
  },
  "language_info": {
   "codemirror_mode": {
    "name": "ipython",
    "version": 3
   },
   "file_extension": ".py",
   "mimetype": "text/x-python",
   "name": "python",
   "nbconvert_exporter": "python",
   "pygments_lexer": "ipython3",
   "version": "3.7.4"
  }
 },
 "nbformat": 4,
 "nbformat_minor": 4
}
